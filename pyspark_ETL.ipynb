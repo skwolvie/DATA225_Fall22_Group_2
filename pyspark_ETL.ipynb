{
 "cells": [
  {
   "cell_type": "markdown",
   "metadata": {},
   "source": [
    "# IMPORTS"
   ]
  },
  {
   "cell_type": "code",
   "execution_count": null,
   "metadata": {},
   "outputs": [],
   "source": [
    "import csv\n",
    "import json\n",
    "import pandas as pd\n",
    "import numpy as np\n",
    "\n",
    "import os,shutil, sys\n",
    "import time\n",
    "import datetime\n",
    "from datequarter import DateQuarter\n",
    "\n",
    "import re\n",
    "import string\n",
    "punc = string.punctuation\n",
    "from ast import literal_eval"
   ]
  },
  {
   "cell_type": "code",
   "execution_count": null,
   "metadata": {},
   "outputs": [],
   "source": [
    "from joblib import Parallel, delayed\n",
    "from tqdm import tqdm\n",
    "import joblib"
   ]
  },
  {
   "cell_type": "code",
   "execution_count": null,
   "metadata": {},
   "outputs": [],
   "source": [
    "import dask\n",
    "import dask.dataframe as dd"
   ]
  },
  {
   "cell_type": "code",
   "execution_count": null,
   "metadata": {},
   "outputs": [],
   "source": [
    "import pyspark\n",
    "from pyspark.sql import SparkSession\n",
    "spark = SparkSession.builder.master(\"local[*]\")\\\n",
    "     .config(\"spark.executor.memory\", \"700g\")\\\n",
    "     .config(\"spark.driver.memory\", \"500g\")\\\n",
    "     .config(\"spark.memory.offHeap.enabled\",True)\\\n",
    "     .config(\"spark.memory.offHeap.size\",\"256g\").appName('sachin').getOrCreate()"
   ]
  },
  {
   "cell_type": "code",
   "execution_count": null,
   "metadata": {},
   "outputs": [],
   "source": [
    "from functools import reduce \n",
    "from pyspark.sql import DataFrame\n",
    "from pyspark.sql.functions import sum, col, desc, countDistinct, isnan, when, count, isnull, coalesce, substring\n",
    "from pyspark.sql.types import *\n",
    "import pyspark.sql.functions as F"
   ]
  },
  {
   "cell_type": "code",
   "execution_count": null,
   "metadata": {},
   "outputs": [
    {
     "data": {
      "text/plain": [
       "['Main_2021-01.txt',\n",
       " 'Main_2021-02.txt',\n",
       " 'Main_2021-03.txt',\n",
       " 'Main_2021-04.txt',\n",
       " 'Main_2021-05.txt',\n",
       " 'Main_2021-06.txt',\n",
       " 'Main_2021-07.txt',\n",
       " 'Main_2021-08.txt',\n",
       " 'Main_2021-09.txt',\n",
       " 'Main_2021-10.txt',\n",
       " 'Main_2021-11.txt',\n",
       " 'Main_2021-12.txt']"
      ]
     },
     "execution_count": 6,
     "metadata": {},
     "output_type": "execute_result"
    }
   ],
   "source": [
    "os.chdir(r\"E:\\JOBS_DATA\\Main\\2021\")\n",
    "os.listdir()"
   ]
  },
  {
   "cell_type": "code",
   "execution_count": null,
   "metadata": {},
   "outputs": [
    {
     "data": {
      "text/plain": [
       "'E:\\\\BGT_All\\\\Main\\\\2021'"
      ]
     },
     "execution_count": 7,
     "metadata": {},
     "output_type": "execute_result"
    }
   ],
   "source": [
    "os.getcwd()"
   ]
  },
  {
   "cell_type": "code",
   "execution_count": 8,
   "metadata": {},
   "outputs": [
    {
     "data": {
      "text/plain": [
       "(3206264, 53)"
      ]
     },
     "execution_count": 8,
     "metadata": {},
     "output_type": "execute_result"
    }
   ],
   "source": [
    "df = spark.read.options(delimiter='\\t').csv(r\"{0}\\\\{1}\".format(os.getcwd(), 'Main_2021-01.txt'), header=True, inferSchema=True)\n",
    "df.count(), len(df.columns)"
   ]
  },
  {
   "cell_type": "code",
   "execution_count": 10,
   "metadata": {},
   "outputs": [
    {
     "name": "stdout",
     "output_type": "stream",
     "text": [
      "+--------------------+-------+\n",
      "|          CanonTitle|  count|\n",
      "+--------------------+-------+\n",
      "|                  na|1155897|\n",
      "|    Registered Nurse|  74651|\n",
      "|Class A CDL Truck...|  60764|\n",
      "|     Sales Associate|  27704|\n",
      "|Licensed Practica...|  26763|\n",
      "|Customer Service ...|  24362|\n",
      "|        Merchandiser|  20072|\n",
      "|     Delivery Driver|  20002|\n",
      "|    Security Officer|  19881|\n",
      "|   Assistant Manager|  19482|\n",
      "|Sales Representative|  19318|\n",
      "|Certified Nursing...|  18215|\n",
      "|Administrative As...|  18152|\n",
      "|Maintenance Techn...|  17988|\n",
      "|Software Developm...|  17571|\n",
      "|           Caregiver|  17348|\n",
      "|Speech Language P...|  15068|\n",
      "|              Intern|  14553|\n",
      "|        Receptionist|  13150|\n",
      "|             Cashier|  12890|\n",
      "+--------------------+-------+\n",
      "only showing top 20 rows\n",
      "\n"
     ]
    }
   ],
   "source": [
    "df.groupBy('CanonTitle').count().sort(desc('count')).show()"
   ]
  },
  {
   "cell_type": "code",
   "execution_count": 11,
   "metadata": {},
   "outputs": [
    {
     "name": "stdout",
     "output_type": "stream",
     "text": [
      "+--------------------------+\n",
      "|count(DISTINCT CanonTitle)|\n",
      "+--------------------------+\n",
      "|                      9707|\n",
      "+--------------------------+\n",
      "\n"
     ]
    }
   ],
   "source": [
    "df.select(countDistinct(\"CanonTitle\")).show()"
   ]
  },
  {
   "cell_type": "code",
   "execution_count": 13,
   "metadata": {},
   "outputs": [
    {
     "name": "stdout",
     "output_type": "stream",
     "text": [
      "+--------------------+-----+\n",
      "|          CleanTitle|count|\n",
      "+--------------------+-----+\n",
      "|Customer Service ...|12664|\n",
      "|Administrative As...| 9513|\n",
      "|    Registered Nurse| 9487|\n",
      "|Maintenance Techn...| 8842|\n",
      "|     Sales Associate| 8127|\n",
      "|Retail Sales Asso...| 7738|\n",
      "|     Delivery Driver| 7505|\n",
      "|   Assistant Manager| 7496|\n",
      "| Warehouse Associate| 7472|\n",
      "|Licensed Practica...| 7236|\n",
      "|Remote Work-Home ...| 7082|\n",
      "|   Medical Assistant| 6975|\n",
      "|              Server| 6935|\n",
      "|Sales Representative| 6425|\n",
      "|         Housekeeper| 6277|\n",
      "|             Cashier| 6166|\n",
      "|          Dishwasher| 6121|\n",
      "|     Project Manager| 5651|\n",
      "|     General Manager| 5490|\n",
      "|                Cook| 5236|\n",
      "+--------------------+-----+\n",
      "only showing top 20 rows\n",
      "\n"
     ]
    }
   ],
   "source": [
    "df.groupBy('CleanTitle').count().sort(desc('count')).show()"
   ]
  },
  {
   "cell_type": "code",
   "execution_count": 14,
   "metadata": {},
   "outputs": [
    {
     "name": "stdout",
     "output_type": "stream",
     "text": [
      "+--------------------------+\n",
      "|count(DISTINCT CleanTitle)|\n",
      "+--------------------------+\n",
      "|                   1059581|\n",
      "+--------------------------+\n",
      "\n"
     ]
    }
   ],
   "source": [
    "df.select(countDistinct(\"CleanTitle\")).show()"
   ]
  },
  {
   "cell_type": "markdown",
   "metadata": {},
   "source": [
    "# Read all files into single rdd"
   ]
  },
  {
   "cell_type": "code",
   "execution_count": 18,
   "metadata": {},
   "outputs": [
    {
     "data": {
      "text/plain": [
       "['2010',\n",
       " '2011',\n",
       " '2012',\n",
       " '2013',\n",
       " '2014',\n",
       " '2015',\n",
       " '2016',\n",
       " '2017',\n",
       " '2018',\n",
       " '2019',\n",
       " '2020',\n",
       " '2021']"
      ]
     },
     "execution_count": 18,
     "metadata": {},
     "output_type": "execute_result"
    }
   ],
   "source": [
    "os.chdir('..')\n",
    "os.listdir()"
   ]
  },
  {
   "cell_type": "code",
   "execution_count": 19,
   "metadata": {},
   "outputs": [
    {
     "data": {
      "text/plain": [
       "'E:\\\\BGT_All\\\\Main'"
      ]
     },
     "execution_count": 19,
     "metadata": {},
     "output_type": "execute_result"
    }
   ],
   "source": [
    "os.getcwd()"
   ]
  },
  {
   "cell_type": "code",
   "execution_count": 20,
   "metadata": {},
   "outputs": [],
   "source": [
    "# dfmain= spark.read.options(delimiter='\\t').csv(r\"{0}\\\\*\\\\*.txt\".format(os.getcwd()), header=True, inferSchema=True)\n",
    "# dfmain.count(), len(dfmain.columns)\n",
    "#commented since it tales atleast 2 hours, and we need only 3 yrs for now"
   ]
  },
  {
   "cell_type": "code",
   "execution_count": 21,
   "metadata": {},
   "outputs": [],
   "source": [
    "def unionAll(*dfs):\n",
    "    return reduce(DataFrame.unionAll, dfs)"
   ]
  },
  {
   "cell_type": "code",
   "execution_count": 22,
   "metadata": {},
   "outputs": [
    {
     "name": "stderr",
     "output_type": "stream",
     "text": [
      "  0%|          | 0/24 [00:00<?, ?it/s]"
     ]
    },
    {
     "name": "stdout",
     "output_type": "stream",
     "text": [
      "Main_2019-01.txt\n",
      "Main_2019-01.txt done\n"
     ]
    },
    {
     "name": "stderr",
     "output_type": "stream",
     "text": [
      "  4%|▍         | 1/24 [00:09<03:33,  9.27s/it]"
     ]
    },
    {
     "name": "stdout",
     "output_type": "stream",
     "text": [
      "6019835 53\n",
      "Main_2019-02.txt\n",
      "Main_2019-02.txt done\n"
     ]
    },
    {
     "name": "stderr",
     "output_type": "stream",
     "text": [
      " 12%|█▎        | 3/24 [00:20<02:19,  6.64s/it]"
     ]
    },
    {
     "name": "stdout",
     "output_type": "stream",
     "text": [
      "8705013 53\n",
      "Main_2019-03.txt\n",
      "Main_2019-03.txt done\n"
     ]
    },
    {
     "name": "stderr",
     "output_type": "stream",
     "text": [
      " 21%|██        | 5/24 [01:07<04:49, 15.24s/it]"
     ]
    },
    {
     "name": "stdout",
     "output_type": "stream",
     "text": [
      "11751708 53\n",
      "Main_2019-04.txt\n",
      "Main_2019-04.txt done\n"
     ]
    },
    {
     "name": "stderr",
     "output_type": "stream",
     "text": [
      " 29%|██▉       | 7/24 [01:49<05:00, 17.65s/it]"
     ]
    },
    {
     "name": "stdout",
     "output_type": "stream",
     "text": [
      "14410810 53\n",
      "Main_2019-05.txt\n",
      "Main_2019-05.txt done\n"
     ]
    },
    {
     "name": "stderr",
     "output_type": "stream",
     "text": [
      " 38%|███▊      | 9/24 [02:32<04:48, 19.21s/it]"
     ]
    },
    {
     "name": "stdout",
     "output_type": "stream",
     "text": [
      "17514151 53\n",
      "Main_2019-06.txt\n",
      "Main_2019-06.txt done\n"
     ]
    },
    {
     "name": "stderr",
     "output_type": "stream",
     "text": [
      " 46%|████▌     | 11/24 [03:13<04:14, 19.59s/it]"
     ]
    },
    {
     "name": "stdout",
     "output_type": "stream",
     "text": [
      "20109295 53\n",
      "Main_2019-07.txt\n",
      "Main_2019-07.txt done\n"
     ]
    },
    {
     "name": "stderr",
     "output_type": "stream",
     "text": [
      " 54%|█████▍    | 13/24 [03:45<03:22, 18.41s/it]"
     ]
    },
    {
     "name": "stdout",
     "output_type": "stream",
     "text": [
      "22447844 53\n",
      "Main_2019-08.txt\n",
      "Main_2019-08.txt done\n"
     ]
    },
    {
     "name": "stderr",
     "output_type": "stream",
     "text": [
      " 62%|██████▎   | 15/24 [04:32<03:00, 20.02s/it]"
     ]
    },
    {
     "name": "stdout",
     "output_type": "stream",
     "text": [
      "25809213 53\n",
      "Main_2019-09.txt\n",
      "Main_2019-09.txt done\n"
     ]
    },
    {
     "name": "stderr",
     "output_type": "stream",
     "text": [
      " 71%|███████   | 17/24 [05:25<02:34, 22.06s/it]"
     ]
    },
    {
     "name": "stdout",
     "output_type": "stream",
     "text": [
      "29184183 53\n",
      "Main_2019-10.txt\n",
      "Main_2019-10.txt done\n"
     ]
    },
    {
     "name": "stderr",
     "output_type": "stream",
     "text": [
      " 79%|███████▉  | 19/24 [06:13<01:53, 22.73s/it]"
     ]
    },
    {
     "name": "stdout",
     "output_type": "stream",
     "text": [
      "32445110 53\n",
      "Main_2019-11.txt\n",
      "Main_2019-11.txt done\n"
     ]
    },
    {
     "name": "stderr",
     "output_type": "stream",
     "text": [
      " 88%|████████▊ | 21/24 [06:54<01:06, 22.02s/it]"
     ]
    },
    {
     "name": "stdout",
     "output_type": "stream",
     "text": [
      "35451280 53\n",
      "Main_2019-12.txt\n",
      "Main_2019-12.txt done\n"
     ]
    },
    {
     "name": "stderr",
     "output_type": "stream",
     "text": [
      "100%|██████████| 24/24 [07:43<00:00, 19.33s/it]\n"
     ]
    },
    {
     "name": "stdout",
     "output_type": "stream",
     "text": [
      "38693374 53\n"
     ]
    },
    {
     "name": "stderr",
     "output_type": "stream",
     "text": [
      "  0%|          | 0/23 [00:00<?, ?it/s]"
     ]
    },
    {
     "name": "stdout",
     "output_type": "stream",
     "text": [
      "Main_2020-01.txt\n",
      "Main_2020-01.txt done\n"
     ]
    },
    {
     "name": "stderr",
     "output_type": "stream",
     "text": [
      "  4%|▍         | 1/23 [00:53<19:44, 53.83s/it]"
     ]
    },
    {
     "name": "stdout",
     "output_type": "stream",
     "text": [
      "42280004 53\n",
      "Main_2020-02.txt\n",
      "Main_2020-02.txt done\n"
     ]
    },
    {
     "name": "stderr",
     "output_type": "stream",
     "text": [
      " 13%|█▎        | 3/23 [01:44<10:56, 32.82s/it]"
     ]
    },
    {
     "name": "stdout",
     "output_type": "stream",
     "text": [
      "45809205 53\n",
      "Main_2020-03.txt\n",
      "Main_2020-03.txt done\n"
     ]
    },
    {
     "name": "stderr",
     "output_type": "stream",
     "text": [
      " 22%|██▏       | 5/23 [02:37<08:49, 29.42s/it]"
     ]
    },
    {
     "name": "stdout",
     "output_type": "stream",
     "text": [
      "49245149 53\n",
      "Main_2020-04.txt\n",
      "Main_2020-04.txt done\n"
     ]
    },
    {
     "name": "stderr",
     "output_type": "stream",
     "text": [
      " 30%|███       | 7/23 [03:14<06:39, 24.94s/it]"
     ]
    },
    {
     "name": "stdout",
     "output_type": "stream",
     "text": [
      "51581183 53\n",
      "Main_2020-05.txt\n",
      "Main_2020-05.txt done\n"
     ]
    },
    {
     "name": "stderr",
     "output_type": "stream",
     "text": [
      " 39%|███▉      | 9/23 [03:56<05:27, 23.41s/it]"
     ]
    },
    {
     "name": "stdout",
     "output_type": "stream",
     "text": [
      "54104409 53\n",
      "Main_2020-06.txt\n",
      "Main_2020-06.txt done\n"
     ]
    },
    {
     "name": "stderr",
     "output_type": "stream",
     "text": [
      " 48%|████▊     | 11/23 [04:49<04:54, 24.53s/it]"
     ]
    },
    {
     "name": "stdout",
     "output_type": "stream",
     "text": [
      "57157619 53\n",
      "Main_2020-07.txt\n",
      "Main_2020-07.txt done\n"
     ]
    },
    {
     "name": "stderr",
     "output_type": "stream",
     "text": [
      " 57%|█████▋    | 13/23 [05:44<04:14, 25.50s/it]"
     ]
    },
    {
     "name": "stdout",
     "output_type": "stream",
     "text": [
      "60223047 53\n",
      "Main_2020-08.txt\n",
      "Main_2020-08.txt done\n"
     ]
    },
    {
     "name": "stderr",
     "output_type": "stream",
     "text": [
      " 65%|██████▌   | 15/23 [06:37<03:26, 25.76s/it]"
     ]
    },
    {
     "name": "stdout",
     "output_type": "stream",
     "text": [
      "63359645 53\n",
      "Main_2020-09.txt\n",
      "Main_2020-09.txt done\n"
     ]
    },
    {
     "name": "stderr",
     "output_type": "stream",
     "text": [
      " 74%|███████▍  | 17/23 [07:27<02:33, 25.62s/it]"
     ]
    },
    {
     "name": "stdout",
     "output_type": "stream",
     "text": [
      "66314004 53\n",
      "Main_2020-10.txt\n",
      "Main_2020-10.txt done\n"
     ]
    },
    {
     "name": "stderr",
     "output_type": "stream",
     "text": [
      " 83%|████████▎ | 19/23 [08:26<01:46, 26.69s/it]"
     ]
    },
    {
     "name": "stdout",
     "output_type": "stream",
     "text": [
      "69633016 53\n",
      "Main_2020-11.txt\n",
      "Main_2020-11.txt done\n"
     ]
    },
    {
     "name": "stderr",
     "output_type": "stream",
     "text": [
      " 91%|█████████▏| 21/23 [09:17<00:52, 26.47s/it]"
     ]
    },
    {
     "name": "stdout",
     "output_type": "stream",
     "text": [
      "72392374 53\n",
      "Main_2020-12.txt\n",
      "Main_2020-12.txt done\n"
     ]
    },
    {
     "name": "stderr",
     "output_type": "stream",
     "text": [
      "100%|██████████| 23/23 [09:35<00:00, 25.01s/it]\n"
     ]
    },
    {
     "name": "stdout",
     "output_type": "stream",
     "text": [
      "72721597 53\n"
     ]
    },
    {
     "name": "stderr",
     "output_type": "stream",
     "text": [
      "  0%|          | 0/12 [00:00<?, ?it/s]"
     ]
    },
    {
     "name": "stdout",
     "output_type": "stream",
     "text": [
      "Main_2021-02.txt\n",
      "Main_2021-02.txt done\n"
     ]
    },
    {
     "name": "stderr",
     "output_type": "stream",
     "text": [
      " 17%|█▋        | 2/12 [00:59<04:56, 29.63s/it]"
     ]
    },
    {
     "name": "stdout",
     "output_type": "stream",
     "text": [
      "75742575 53\n",
      "Main_2021-03.txt\n",
      "Main_2021-03.txt done\n"
     ]
    },
    {
     "name": "stderr",
     "output_type": "stream",
     "text": [
      " 25%|██▌       | 3/12 [02:13<07:12, 48.02s/it]"
     ]
    },
    {
     "name": "stdout",
     "output_type": "stream",
     "text": [
      "79831652 53\n",
      "Main_2021-04.txt\n",
      "Main_2021-04.txt done\n"
     ]
    },
    {
     "name": "stderr",
     "output_type": "stream",
     "text": [
      " 33%|███▎      | 4/12 [03:21<07:24, 55.54s/it]"
     ]
    },
    {
     "name": "stdout",
     "output_type": "stream",
     "text": [
      "83925382 53\n",
      "Main_2021-05.txt\n",
      "Main_2021-05.txt done\n"
     ]
    },
    {
     "name": "stderr",
     "output_type": "stream",
     "text": [
      " 42%|████▏     | 5/12 [04:38<07:20, 62.95s/it]"
     ]
    },
    {
     "name": "stdout",
     "output_type": "stream",
     "text": [
      "88126764 53\n",
      "Main_2021-06.txt\n",
      "Main_2021-06.txt done\n"
     ]
    },
    {
     "name": "stderr",
     "output_type": "stream",
     "text": [
      " 50%|█████     | 6/12 [05:45<06:26, 64.35s/it]"
     ]
    },
    {
     "name": "stdout",
     "output_type": "stream",
     "text": [
      "92027307 53\n",
      "Main_2021-07.txt\n",
      "Main_2021-07.txt done\n"
     ]
    },
    {
     "name": "stderr",
     "output_type": "stream",
     "text": [
      " 58%|█████▊    | 7/12 [06:48<05:20, 64.16s/it]"
     ]
    },
    {
     "name": "stdout",
     "output_type": "stream",
     "text": [
      "95804115 53\n",
      "Main_2021-08.txt\n",
      "Main_2021-08.txt done\n"
     ]
    },
    {
     "name": "stderr",
     "output_type": "stream",
     "text": [
      " 67%|██████▋   | 8/12 [08:03<04:29, 67.30s/it]"
     ]
    },
    {
     "name": "stdout",
     "output_type": "stream",
     "text": [
      "99640182 53\n",
      "Main_2021-09.txt\n",
      "Main_2021-09.txt done\n"
     ]
    },
    {
     "name": "stderr",
     "output_type": "stream",
     "text": [
      " 75%|███████▌  | 9/12 [09:14<03:25, 68.47s/it]"
     ]
    },
    {
     "name": "stdout",
     "output_type": "stream",
     "text": [
      "103148194 53\n",
      "Main_2021-10.txt\n",
      "Main_2021-10.txt done\n"
     ]
    },
    {
     "name": "stderr",
     "output_type": "stream",
     "text": [
      " 83%|████████▎ | 10/12 [10:26<02:19, 69.51s/it]"
     ]
    },
    {
     "name": "stdout",
     "output_type": "stream",
     "text": [
      "107044983 53\n",
      "Main_2021-11.txt\n",
      "Main_2021-11.txt done\n"
     ]
    },
    {
     "name": "stderr",
     "output_type": "stream",
     "text": [
      " 92%|█████████▏| 11/12 [11:56<01:15, 75.75s/it]"
     ]
    },
    {
     "name": "stdout",
     "output_type": "stream",
     "text": [
      "111109056 53\n",
      "Main_2021-12.txt\n",
      "Main_2021-12.txt done\n"
     ]
    },
    {
     "name": "stderr",
     "output_type": "stream",
     "text": [
      "100%|██████████| 12/12 [13:04<00:00, 65.40s/it]"
     ]
    },
    {
     "name": "stdout",
     "output_type": "stream",
     "text": [
      "115032642 53\n"
     ]
    },
    {
     "name": "stderr",
     "output_type": "stream",
     "text": [
      "\n"
     ]
    }
   ],
   "source": [
    "for yr in ['2019', '2020', '2021']:\n",
    "    os.chdir(yr)\n",
    "    for f in tqdm(os.listdir()):\n",
    "        if f.endswith('.txt') and f!='Main_2021-01.txt':\n",
    "            print(f)\n",
    "            d1=  spark.read.options(delimiter='\\t').csv(r\"{0}\\\\{1}\".format(os.getcwd(), f), header=True, inferSchema=True)\n",
    "            df= unionAll(df, d1)\n",
    "            print(f, 'done')\n",
    "            print(df.count(), len(df.columns))\n",
    "    os.chdir('..')"
   ]
  },
  {
   "cell_type": "code",
   "execution_count": 23,
   "metadata": {},
   "outputs": [
    {
     "name": "stdout",
     "output_type": "stream",
     "text": [
      "115032642 53\n"
     ]
    }
   ],
   "source": [
    "print(df.count(), len(df.columns))"
   ]
  },
  {
   "cell_type": "code",
   "execution_count": 26,
   "metadata": {},
   "outputs": [
    {
     "name": "stdout",
     "output_type": "stream",
     "text": [
      "+--------------------+------+\n",
      "|          CleanTitle| count|\n",
      "+--------------------+------+\n",
      "|Customer Service ...|460464|\n",
      "|Administrative As...|389372|\n",
      "|     Sales Associate|336486|\n",
      "|    Registered Nurse|301362|\n",
      "|Maintenance Techn...|272454|\n",
      "|   Assistant Manager|250389|\n",
      "|             Cashier|243656|\n",
      "|              Server|224434|\n",
      "|     Delivery Driver|223514|\n",
      "|     Project Manager|219287|\n",
      "| Warehouse Associate|215569|\n",
      "|Sales Representative|209158|\n",
      "|          Dishwasher|203740|\n",
      "|Retail Sales Asso...|200397|\n",
      "|         Housekeeper|189604|\n",
      "|        Receptionist|189548|\n",
      "|Licensed Practica...|179748|\n",
      "|   Medical Assistant|178245|\n",
      "|     General Manager|175204|\n",
      "|           Caregiver|168901|\n",
      "+--------------------+------+\n",
      "only showing top 20 rows\n",
      "\n",
      "None\n",
      "+--------------------------+\n",
      "|count(DISTINCT CleanTitle)|\n",
      "+--------------------------+\n",
      "|                  20876953|\n",
      "+--------------------------+\n",
      "\n",
      "None\n"
     ]
    }
   ],
   "source": [
    "print(df.groupBy('CleanTitle').count().sort(desc('count')).show())\n",
    "print(df.select(countDistinct(\"CleanTitle\")).show())"
   ]
  },
  {
   "cell_type": "code",
   "execution_count": 27,
   "metadata": {},
   "outputs": [
    {
     "name": "stdout",
     "output_type": "stream",
     "text": [
      "+--------------------+--------+\n",
      "|          CanonTitle|   count|\n",
      "+--------------------+--------+\n",
      "|                  na|43105144|\n",
      "|    Registered Nurse| 2257648|\n",
      "|Class A CDL Truck...| 1384766|\n",
      "|     Sales Associate| 1193202|\n",
      "|Customer Service ...|  908564|\n",
      "|Software Developm...|  770437|\n",
      "|Administrative As...|  754870|\n",
      "|     Delivery Driver|  744995|\n",
      "|   Assistant Manager|  729838|\n",
      "|Licensed Practica...|  722791|\n",
      "|Sales Representative|  695753|\n",
      "|    Security Officer|  594893|\n",
      "|Maintenance Techn...|  583212|\n",
      "|        Merchandiser|  543692|\n",
      "|           Caregiver|  542082|\n",
      "|             Cashier|  532219|\n",
      "|        Receptionist|  513119|\n",
      "|Certified Nursing...|  464064|\n",
      "|              Intern|  463089|\n",
      "|         Housekeeper|  413421|\n",
      "+--------------------+--------+\n",
      "only showing top 20 rows\n",
      "\n",
      "None\n",
      "+--------------------------+\n",
      "|count(DISTINCT CanonTitle)|\n",
      "+--------------------------+\n",
      "|                     16495|\n",
      "+--------------------------+\n",
      "\n",
      "None\n"
     ]
    }
   ],
   "source": [
    "print(df.groupBy('CanonTitle').count().sort(desc('count')).show())\n",
    "print(df.select(countDistinct(\"CanonTitle\")).show())"
   ]
  },
  {
   "cell_type": "code",
   "execution_count": 28,
   "metadata": {},
   "outputs": [
    {
     "name": "stdout",
     "output_type": "stream",
     "text": [
      "+------+--------+\n",
      "|OccFam|   count|\n",
      "+------+--------+\n",
      "|    29|12845457|\n",
      "|    11|12319167|\n",
      "|    43|12123827|\n",
      "|    41|12087497|\n",
      "|    15|10818283|\n",
      "|    53| 7510903|\n",
      "|    13| 6778965|\n",
      "|    35| 5540394|\n",
      "|    na| 4607626|\n",
      "|    49| 3960876|\n",
      "|    51| 3421095|\n",
      "|    25| 3010828|\n",
      "|    31| 2968941|\n",
      "|    17| 2935899|\n",
      "|    39| 2584982|\n",
      "|    27| 2551205|\n",
      "|    37| 2357710|\n",
      "|    47| 1623539|\n",
      "|    33| 1507395|\n",
      "|    21| 1455873|\n",
      "+------+--------+\n",
      "only showing top 20 rows\n",
      "\n",
      "None\n",
      "+----------------------+\n",
      "|count(DISTINCT OccFam)|\n",
      "+----------------------+\n",
      "|                    25|\n",
      "+----------------------+\n",
      "\n",
      "None\n"
     ]
    }
   ],
   "source": [
    "print(df.groupBy('OccFam').count().sort(desc('count')).show())\n",
    "print(df.select(countDistinct(\"OccFam\")).show())"
   ]
  },
  {
   "cell_type": "code",
   "execution_count": 29,
   "metadata": {},
   "outputs": [
    {
     "name": "stdout",
     "output_type": "stream",
     "text": [
      "+--------------------+--------+\n",
      "|          OccFamName|   count|\n",
      "+--------------------+--------+\n",
      "|Healthcare Practi...|12845457|\n",
      "|Management Occupa...|12319167|\n",
      "|Office and Admini...|12123827|\n",
      "|Sales and Related...|12087497|\n",
      "|Computer and Math...|10818283|\n",
      "|Transportation an...| 7510903|\n",
      "|Business and Fina...| 6778965|\n",
      "|Food Preparation ...| 5540394|\n",
      "|                  na| 4607626|\n",
      "|Installation, Mai...| 3960876|\n",
      "|Production Occupa...| 3421095|\n",
      "|Education, Traini...| 3010828|\n",
      "|Healthcare Suppor...| 2968941|\n",
      "|Architecture and ...| 2935899|\n",
      "|Personal Care and...| 2584982|\n",
      "|Arts, Design, Ent...| 2551205|\n",
      "|Building and Grou...| 2357710|\n",
      "|Construction and ...| 1623539|\n",
      "|Protective Servic...| 1507395|\n",
      "|Community and Soc...| 1455873|\n",
      "+--------------------+--------+\n",
      "only showing top 20 rows\n",
      "\n",
      "None\n",
      "+--------------------------+\n",
      "|count(DISTINCT OccFamName)|\n",
      "+--------------------------+\n",
      "|                        25|\n",
      "+--------------------------+\n",
      "\n",
      "None\n"
     ]
    }
   ],
   "source": [
    "print(df.groupBy('OccFamName').count().sort(desc('count')).show())\n",
    "print(df.select(countDistinct(\"OccFamName\")).show())"
   ]
  },
  {
   "cell_type": "code",
   "execution_count": 30,
   "metadata": {},
   "outputs": [
    {
     "name": "stdout",
     "output_type": "stream",
     "text": [
      "+--------------------------+\n",
      "|count(DISTINCT OccFamName)|\n",
      "+--------------------------+\n",
      "|                        25|\n",
      "+--------------------------+\n",
      "\n"
     ]
    }
   ],
   "source": [
    "df.select(countDistinct(\"OccFamName\")).show()"
   ]
  },
  {
   "cell_type": "code",
   "execution_count": 31,
   "metadata": {},
   "outputs": [
    {
     "name": "stdout",
     "output_type": "stream",
     "text": [
      "+-------+-------+\n",
      "|    SOC|  count|\n",
      "+-------+-------+\n",
      "|29-1141|5140487|\n",
      "|     na|4607626|\n",
      "|41-2031|3266127|\n",
      "|15-1132|3217064|\n",
      "|41-4012|3091536|\n",
      "|15-1199|2829279|\n",
      "|43-4051|2827765|\n",
      "|53-3032|2756055|\n",
      "|11-9199|2551227|\n",
      "|41-1011|2157067|\n",
      "|53-7062|2118342|\n",
      "|11-9111|1348204|\n",
      "|35-3021|1339760|\n",
      "|43-5081|1328208|\n",
      "|43-6014|1320849|\n",
      "|49-9071|1301667|\n",
      "|11-1021|1102033|\n",
      "|13-1071|1088607|\n",
      "|11-9051|1031099|\n",
      "|11-2022|1010261|\n",
      "+-------+-------+\n",
      "only showing top 20 rows\n",
      "\n",
      "None\n",
      "+-------------------+\n",
      "|count(DISTINCT SOC)|\n",
      "+-------------------+\n",
      "|                838|\n",
      "+-------------------+\n",
      "\n",
      "None\n"
     ]
    }
   ],
   "source": [
    "print(df.groupBy('SOC').count().sort(desc('count')).show())\n",
    "print(df.select(countDistinct(\"SOC\")).show())"
   ]
  },
  {
   "cell_type": "code",
   "execution_count": 32,
   "metadata": {},
   "outputs": [
    {
     "name": "stdout",
     "output_type": "stream",
     "text": [
      "+--------------------+-------+\n",
      "|             SOCName|  count|\n",
      "+--------------------+-------+\n",
      "|   Registered Nurses|5140487|\n",
      "|                  na|4607626|\n",
      "| Retail Salespersons|3266127|\n",
      "|Software Develope...|3217064|\n",
      "|Sales Representat...|3091536|\n",
      "|Computer Occupati...|2829279|\n",
      "|Customer Service ...|2827765|\n",
      "|Heavy and Tractor...|2756055|\n",
      "| Managers, All Other|2551227|\n",
      "|First-Line Superv...|2157067|\n",
      "|Laborers and Frei...|2118342|\n",
      "|Medical and Healt...|1348204|\n",
      "|Combined Food Pre...|1339760|\n",
      "|Stock Clerks and ...|1328208|\n",
      "|Secretaries and A...|1320849|\n",
      "|Maintenance and R...|1301667|\n",
      "|General and Opera...|1102033|\n",
      "|Human Resources S...|1088607|\n",
      "|Food Service Mana...|1031099|\n",
      "|      Sales Managers|1010261|\n",
      "+--------------------+-------+\n",
      "only showing top 20 rows\n",
      "\n",
      "None\n",
      "+-----------------------+\n",
      "|count(DISTINCT SOCName)|\n",
      "+-----------------------+\n",
      "|                    838|\n",
      "+-----------------------+\n",
      "\n",
      "None\n"
     ]
    }
   ],
   "source": [
    "print(df.groupBy('SOCName').count().sort(desc('count')).show())\n",
    "print(df.select(countDistinct(\"SOCName\")).show())"
   ]
  },
  {
   "cell_type": "code",
   "execution_count": 33,
   "metadata": {},
   "outputs": [
    {
     "name": "stdout",
     "output_type": "stream",
     "text": [
      "+----------+-------+\n",
      "|      ONET|  count|\n",
      "+----------+-------+\n",
      "|        na|4607626|\n",
      "|29-1141.00|4479535|\n",
      "|41-2031.00|3266127|\n",
      "|15-1132.00|3217064|\n",
      "|41-4012.00|3091536|\n",
      "|53-3032.00|2756055|\n",
      "|43-4051.00|2425658|\n",
      "|11-9199.00|2297047|\n",
      "|41-1011.00|2157067|\n",
      "|53-7062.00|2118342|\n",
      "|11-9111.00|1348204|\n",
      "|35-3021.00|1339760|\n",
      "|43-6014.00|1320849|\n",
      "|49-9071.00|1301667|\n",
      "|11-1021.00|1102033|\n",
      "|13-1071.00|1088607|\n",
      "|11-9051.00|1031099|\n",
      "|11-2022.00|1010261|\n",
      "|37-2011.00|1002101|\n",
      "|33-9032.00| 963292|\n",
      "+----------+-------+\n",
      "only showing top 20 rows\n",
      "\n",
      "None\n",
      "+--------------------+\n",
      "|count(DISTINCT ONET)|\n",
      "+--------------------+\n",
      "|                1063|\n",
      "+--------------------+\n",
      "\n",
      "None\n"
     ]
    }
   ],
   "source": [
    "print(df.groupBy('ONET').count().sort(desc('count')).show())\n",
    "print(df.select(countDistinct(\"ONET\")).show())"
   ]
  },
  {
   "cell_type": "code",
   "execution_count": 35,
   "metadata": {},
   "outputs": [
    {
     "name": "stdout",
     "output_type": "stream",
     "text": [
      "+--------------------+-------+\n",
      "|            ONETName|  count|\n",
      "+--------------------+-------+\n",
      "|                  na|4607626|\n",
      "|   Registered Nurses|4479535|\n",
      "| Retail Salespersons|3266127|\n",
      "|Software Develope...|3217064|\n",
      "|Sales Representat...|3091536|\n",
      "|Heavy and Tractor...|2756055|\n",
      "|Customer Service ...|2425658|\n",
      "| Managers, All Other|2297047|\n",
      "|First-Line Superv...|2157067|\n",
      "|Laborers and Frei...|2118342|\n",
      "|Medical and Healt...|1348204|\n",
      "|Combined Food Pre...|1339760|\n",
      "|Secretaries and A...|1320849|\n",
      "|Maintenance and R...|1301667|\n",
      "|General and Opera...|1102033|\n",
      "|Human Resources S...|1088607|\n",
      "|Food Service Mana...|1031099|\n",
      "|      Sales Managers|1010261|\n",
      "|Janitors and Clea...|1002101|\n",
      "|     Security Guards| 963292|\n",
      "+--------------------+-------+\n",
      "only showing top 20 rows\n",
      "\n",
      "None\n",
      "+------------------------+\n",
      "|count(DISTINCT ONETName)|\n",
      "+------------------------+\n",
      "|                    1063|\n",
      "+------------------------+\n",
      "\n",
      "None\n"
     ]
    }
   ],
   "source": [
    "print(df.groupBy('ONETName').count().sort(desc('count')).show())\n",
    "print(df.select(countDistinct(\"ONETName\")).show())"
   ]
  },
  {
   "cell_type": "code",
   "execution_count": 40,
   "metadata": {},
   "outputs": [
    {
     "name": "stdout",
     "output_type": "stream",
     "text": [
      "+------+--------+\n",
      "|Sector|   count|\n",
      "+------+--------+\n",
      "|    na|27220460|\n",
      "|    62|19622837|\n",
      "| 44-45|10860796|\n",
      "|    72| 7731641|\n",
      "|    54| 7587924|\n",
      "|    52| 7279322|\n",
      "| 31-33| 7188292|\n",
      "|    61| 4682098|\n",
      "|    56| 4682048|\n",
      "| 48-49| 4276919|\n",
      "|    92| 2916362|\n",
      "|    51| 2679181|\n",
      "|    53| 2055314|\n",
      "|    81| 1931030|\n",
      "|    23| 1755801|\n",
      "|    71|  862789|\n",
      "|    42|  685346|\n",
      "|    22|  380398|\n",
      "|    21|  273047|\n",
      "|    11|  181239|\n",
      "+------+--------+\n",
      "only showing top 20 rows\n",
      "\n",
      "None\n",
      "+----------------------+\n",
      "|count(DISTINCT Sector)|\n",
      "+----------------------+\n",
      "|                    22|\n",
      "+----------------------+\n",
      "\n",
      "None\n"
     ]
    }
   ],
   "source": [
    "print(df.groupBy('Sector').count().sort(desc('count')).show())\n",
    "print(df.select(countDistinct(\"Sector\")).show())"
   ]
  },
  {
   "cell_type": "code",
   "execution_count": 68,
   "metadata": {},
   "outputs": [
    {
     "name": "stdout",
     "output_type": "stream",
     "text": [
      "+--------------------+--------+\n",
      "|          SectorName|   count|\n",
      "+--------------------+--------+\n",
      "|                  na|27220460|\n",
      "|Health Care and S...|19622837|\n",
      "|        Retail Trade|10860796|\n",
      "|Accommodation and...| 7731641|\n",
      "|Professional, Sci...| 7587924|\n",
      "|Finance and Insur...| 7279322|\n",
      "|       Manufacturing| 7188292|\n",
      "|Educational Services| 4682098|\n",
      "|Administrative an...| 4682048|\n",
      "|Transportation an...| 4276919|\n",
      "|Public Administra...| 2916362|\n",
      "|         Information| 2679181|\n",
      "|Real Estate and R...| 2055314|\n",
      "|Other Services (e...| 1931030|\n",
      "|        Construction| 1755801|\n",
      "|Arts, Entertainme...|  862789|\n",
      "|     Wholesale Trade|  685346|\n",
      "|           Utilities|  380398|\n",
      "|Mining, Quarrying...|  273047|\n",
      "|Agriculture, Fore...|  181239|\n",
      "+--------------------+--------+\n",
      "only showing top 20 rows\n",
      "\n",
      "None\n",
      "+--------------------------+\n",
      "|count(DISTINCT SectorName)|\n",
      "+--------------------------+\n",
      "|                        22|\n",
      "+--------------------------+\n",
      "\n",
      "None\n"
     ]
    }
   ],
   "source": [
    "print(df.groupBy('SectorName').count().sort(desc('count')).show())\n",
    "print(df.select(countDistinct(\"SectorName\")).show())"
   ]
  },
  {
   "cell_type": "code",
   "execution_count": 54,
   "metadata": {},
   "outputs": [
    {
     "name": "stdout",
     "output_type": "stream",
     "text": [
      "+------+--------+\n",
      "|   Exp|   count|\n",
      "+------+--------+\n",
      "|-999.0|62645689|\n",
      "|   1.0|12742418|\n",
      "|   2.0|10861277|\n",
      "|   3.0| 8164806|\n",
      "|   5.0| 7745231|\n",
      "|   4.0| 2686535|\n",
      "|  10.0| 2166148|\n",
      "|   0.5| 2141325|\n",
      "|   7.0| 1518262|\n",
      "|   8.0| 1402642|\n",
      "|   6.0| 1096059|\n",
      "|  15.0|  384068|\n",
      "|  0.25|  359150|\n",
      "|  12.0|  332491|\n",
      "|  0.08|  270878|\n",
      "|   9.0|  165748|\n",
      "|   1.5|   95291|\n",
      "|  14.0|   54724|\n",
      "|  11.0|   48985|\n",
      "|  13.0|   41239|\n",
      "+------+--------+\n",
      "only showing top 20 rows\n",
      "\n",
      "None\n",
      "+-------------------+\n",
      "|count(DISTINCT Exp)|\n",
      "+-------------------+\n",
      "|                 49|\n",
      "+-------------------+\n",
      "\n",
      "None\n"
     ]
    }
   ],
   "source": [
    "print(df.groupBy('Exp').count().sort(desc('count')).show())\n",
    "print(df.select(countDistinct(\"Exp\")).show())"
   ]
  },
  {
   "cell_type": "code",
   "execution_count": 58,
   "metadata": {},
   "outputs": [
    {
     "name": "stdout",
     "output_type": "stream",
     "text": [
      "+--------------------+--------+\n",
      "|            Employer|   count|\n",
      "+--------------------+--------+\n",
      "|                  na|21284394|\n",
      "|              Amazon| 1162575|\n",
      "|   Anthem Blue Cross|  607580|\n",
      "|Lowe's Companies,...|  530288|\n",
      "|Marriott Internat...|  342434|\n",
      "|     Walmart / Sam's|  316357|\n",
      "|            Deloitte|  303811|\n",
      "|The Home Depot In...|  284424|\n",
      "|Hospital Corporat...|  269647|\n",
      "|    Allied Universal|  253425|\n",
      "|      Dollar General|  245264|\n",
      "|          CVS Health|  240223|\n",
      "|         Wells Fargo|  231169|\n",
      "|Walgreens Boots A...|  218070|\n",
      "|               FedEx|  204491|\n",
      "|              Humana|  202550|\n",
      "|  UnitedHealth Group|  184088|\n",
      "|             Aramark|  170884|\n",
      "|United Parcel Ser...|  165432|\n",
      "|          McDonald's|  164876|\n",
      "+--------------------+--------+\n",
      "only showing top 20 rows\n",
      "\n",
      "None\n",
      "+------------------------+\n",
      "|count(DISTINCT Employer)|\n",
      "+------------------------+\n",
      "|                 2731477|\n",
      "+------------------------+\n",
      "\n",
      "None\n"
     ]
    }
   ],
   "source": [
    "print(df.groupBy('Employer').count().sort(desc('count')).show())\n",
    "print(df.select(countDistinct(\"Employer\")).show())"
   ]
  },
  {
   "cell_type": "code",
   "execution_count": 60,
   "metadata": {},
   "outputs": [
    {
     "name": "stdout",
     "output_type": "stream",
     "text": [
      "+--------------------+--------+\n",
      "|               State|   count|\n",
      "+--------------------+--------+\n",
      "|          California|15634984|\n",
      "|               Texas| 9920739|\n",
      "|             Florida| 7027715|\n",
      "|            New York| 5210700|\n",
      "|            Illinois| 4603799|\n",
      "|                Ohio| 4130345|\n",
      "|        Pennsylvania| 3958575|\n",
      "|      North Carolina| 3910673|\n",
      "|             Georgia| 3739303|\n",
      "|            Virginia| 3401356|\n",
      "|       Massachusetts| 3379215|\n",
      "|            Colorado| 3354434|\n",
      "|            Michigan| 3227732|\n",
      "|             Arizona| 3198375|\n",
      "|          Washington| 3009193|\n",
      "|          New Jersey| 2890563|\n",
      "|             Indiana| 2371423|\n",
      "|           Minnesota| 2365942|\n",
      "|           Tennessee| 2297249|\n",
      "|           Wisconsin| 2292401|\n",
      "|            Maryland| 2094309|\n",
      "|            Missouri| 1984448|\n",
      "|              Oregon| 1596207|\n",
      "|             Alabama| 1401215|\n",
      "|         Connecticut| 1283587|\n",
      "|            Kentucky| 1265068|\n",
      "|      South Carolina| 1225993|\n",
      "|            Oklahoma| 1198178|\n",
      "|              Nevada| 1194359|\n",
      "|           Louisiana| 1144026|\n",
      "|                Utah| 1104566|\n",
      "|                Iowa| 1086240|\n",
      "|              Kansas| 1033391|\n",
      "|District of Columbia|  867610|\n",
      "|            Nebraska|  766524|\n",
      "|            Arkansas|  667679|\n",
      "|               Idaho|  640019|\n",
      "|          New Mexico|  586952|\n",
      "|         Mississippi|  518822|\n",
      "|       New Hampshire|  449924|\n",
      "|              Hawaii|  386125|\n",
      "|        Rhode Island|  360502|\n",
      "|            Delaware|  331639|\n",
      "|             Montana|  275233|\n",
      "|       West Virginia|  272889|\n",
      "|              Alaska|  271928|\n",
      "|               Maine|  267133|\n",
      "|        North Dakota|  229846|\n",
      "|        South Dakota|  224211|\n",
      "|             Vermont|  168916|\n",
      "|             Wyoming|  133892|\n",
      "|         Puerto Rico|   49931|\n",
      "|                  na|   16456|\n",
      "|                Guam|    3688|\n",
      "|Virgin Islands of...|    3496|\n",
      "|                null|    2581|\n",
      "|               Palau|     180|\n",
      "|Northern Mariana ...|      95|\n",
      "|      American Samoa|      57|\n",
      "|    Marshall Islands|       7|\n",
      "|               Duval|       1|\n",
      "|         Mecklenburg|       1|\n",
      "|              Marion|       1|\n",
      "+--------------------+--------+\n",
      "only showing top 63 rows\n",
      "\n",
      "None\n",
      "+---------------------+\n",
      "|count(DISTINCT State)|\n",
      "+---------------------+\n",
      "|                   63|\n",
      "+---------------------+\n",
      "\n",
      "None\n"
     ]
    }
   ],
   "source": [
    "print(df.groupBy('State').count().sort(desc('count')).show(63))\n",
    "print(df.select(countDistinct(\"State\")).show())"
   ]
  },
  {
   "cell_type": "code",
   "execution_count": 61,
   "metadata": {},
   "outputs": [
    {
     "name": "stdout",
     "output_type": "stream",
     "text": [
      "+-------------+-------+\n",
      "|         City|  count|\n",
      "+-------------+-------+\n",
      "|     New York|2560790|\n",
      "|  Los Angeles|1581424|\n",
      "|           na|1385582|\n",
      "|      Houston|1374886|\n",
      "|      Chicago|1358005|\n",
      "|      Atlanta|1150151|\n",
      "|       Dallas|1138379|\n",
      "|San Francisco|1098632|\n",
      "|    San Diego|1014712|\n",
      "|      Phoenix|1003558|\n",
      "|       Austin| 974795|\n",
      "|       Denver| 922327|\n",
      "|   Washington| 920587|\n",
      "|      Seattle| 895281|\n",
      "|    Charlotte| 867340|\n",
      "|       Boston| 840501|\n",
      "|     Columbus| 772708|\n",
      "| Philadelphia| 772115|\n",
      "|  San Antonio| 766528|\n",
      "|        Miami| 742562|\n",
      "+-------------+-------+\n",
      "only showing top 20 rows\n",
      "\n",
      "None\n",
      "+--------------------+\n",
      "|count(DISTINCT City)|\n",
      "+--------------------+\n",
      "|               19710|\n",
      "+--------------------+\n",
      "\n",
      "None\n"
     ]
    }
   ],
   "source": [
    "print(df.groupBy('City').count().sort(desc('count')).show())\n",
    "print(df.select(countDistinct(\"City\")).show())"
   ]
  },
  {
   "cell_type": "code",
   "execution_count": 66,
   "metadata": {},
   "outputs": [
    {
     "name": "stdout",
     "output_type": "stream",
     "text": [
      "+-------+-------+\n",
      "|    Lat|  count|\n",
      "+-------+-------+\n",
      "|40.7501|1988625|\n",
      "| -999.0|1375523|\n",
      "|41.8746|1315511|\n",
      "|29.7194|1262870|\n",
      "|33.9746|1216865|\n",
      "|33.6488|1105342|\n",
      "|37.7798|1073819|\n",
      "| 32.787|1068999|\n",
      "|33.4507| 960177|\n",
      "|32.7211| 935406|\n",
      "|39.7506| 866033|\n",
      "|30.2202| 841560|\n",
      "|35.1943| 836691|\n",
      "|38.9086| 826931|\n",
      "|42.3575| 765128|\n",
      "|47.7593| 756087|\n",
      "|29.3423| 697473|\n",
      "|40.1169| 645689|\n",
      "|39.7751| 635586|\n",
      "|27.9827| 629369|\n",
      "+-------+-------+\n",
      "only showing top 20 rows\n",
      "\n",
      "None\n",
      "+-------------------+\n",
      "|count(DISTINCT Lat)|\n",
      "+-------------------+\n",
      "|              44162|\n",
      "+-------------------+\n",
      "\n",
      "None\n"
     ]
    }
   ],
   "source": [
    "print(df.groupBy('Lat').count().sort(desc('count')).show())\n",
    "print(df.select(countDistinct(\"Lat\")).show())"
   ]
  },
  {
   "cell_type": "code",
   "execution_count": 67,
   "metadata": {},
   "outputs": [
    {
     "name": "stdout",
     "output_type": "stream",
     "text": [
      "+------------+--------+\n",
      "|PayFrequency|   count|\n",
      "+------------+--------+\n",
      "|          na|77202049|\n",
      "|      hourly|19242267|\n",
      "|      annual|16397165|\n",
      "|     monthly| 1165947|\n",
      "|       daily|  801314|\n",
      "|      weekly|  223895|\n",
      "|        none|       4|\n",
      "|        null|       1|\n",
      "+------------+--------+\n",
      "\n",
      "None\n",
      "+----------------------------+\n",
      "|count(DISTINCT PayFrequency)|\n",
      "+----------------------------+\n",
      "|                           7|\n",
      "+----------------------------+\n",
      "\n",
      "None\n"
     ]
    }
   ],
   "source": [
    "print(df.groupBy('PayFrequency').count().sort(desc('count')).show())\n",
    "print(df.select(countDistinct(\"PayFrequency\")).show())"
   ]
  },
  {
   "cell_type": "code",
   "execution_count": 69,
   "metadata": {},
   "outputs": [
    {
     "name": "stdout",
     "output_type": "stream",
     "text": [
      "+---------+--------+\n",
      "|MaxSalary|   count|\n",
      "+---------+--------+\n",
      "|   -999.0|77202049|\n",
      "|  31200.0| 1988114|\n",
      "|  41600.0| 1121811|\n",
      "|  33280.0| 1104667|\n",
      "|  37440.0| 1065406|\n",
      "|  29120.0|  969017|\n",
      "|  35360.0|  876623|\n",
      "|  52000.0|  858165|\n",
      "|  24960.0|  825092|\n",
      "|  27040.0|  804286|\n",
      "| 100000.0|  605028|\n",
      "|  50000.0|  485335|\n",
      "|  60000.0|  481180|\n",
      "|  45760.0|  462276|\n",
      "|  20800.0|  424327|\n",
      "|  22880.0|  423750|\n",
      "| 120000.0|  420692|\n",
      "|  39520.0|  408847|\n",
      "|  62400.0|  396823|\n",
      "|  65000.0|  361620|\n",
      "+---------+--------+\n",
      "only showing top 20 rows\n",
      "\n",
      "None\n",
      "+-------------------------+\n",
      "|count(DISTINCT MaxSalary)|\n",
      "+-------------------------+\n",
      "|                   206947|\n",
      "+-------------------------+\n",
      "\n",
      "None\n"
     ]
    }
   ],
   "source": [
    "print(df.groupBy('MaxSalary').count().sort(desc('count')).show())\n",
    "print(df.select(countDistinct(\"MaxSalary\")).show())"
   ]
  },
  {
   "cell_type": "code",
   "execution_count": 70,
   "metadata": {},
   "outputs": [
    {
     "name": "stdout",
     "output_type": "stream",
     "text": [
      "+-------------+--------+\n",
      "|MaxHrlySalary|   count|\n",
      "+-------------+--------+\n",
      "|       -999.0|75052255|\n",
      "|      -999.00| 2149794|\n",
      "|         15.0| 1915445|\n",
      "|         20.0| 1086923|\n",
      "|         16.0| 1063430|\n",
      "|         18.0| 1028959|\n",
      "|         14.0|  932386|\n",
      "|         17.0|  846829|\n",
      "|         25.0|  831804|\n",
      "|         12.0|  793179|\n",
      "|         13.0|  773534|\n",
      "|        48.08|  606011|\n",
      "|        24.04|  488618|\n",
      "|        28.85|  484583|\n",
      "|         22.0|  448456|\n",
      "|        57.69|  421321|\n",
      "|         10.0|  408181|\n",
      "|         11.0|  407580|\n",
      "|         19.0|  395409|\n",
      "|         30.0|  384745|\n",
      "+-------------+--------+\n",
      "only showing top 20 rows\n",
      "\n",
      "None\n",
      "+-----------------------------+\n",
      "|count(DISTINCT MaxHrlySalary)|\n",
      "+-----------------------------+\n",
      "|                        16288|\n",
      "+-----------------------------+\n",
      "\n",
      "None\n"
     ]
    }
   ],
   "source": [
    "print(df.groupBy('MaxHrlySalary').count().sort(desc('count')).show())\n",
    "print(df.select(countDistinct(\"MaxHrlySalary\")).show())"
   ]
  },
  {
   "cell_type": "code",
   "execution_count": 71,
   "metadata": {},
   "outputs": [
    {
     "name": "stdout",
     "output_type": "stream",
     "text": [
      "+------------------+--------+\n",
      "|        SalaryType|   count|\n",
      "+------------------+--------+\n",
      "|                na|77202053|\n",
      "|              none|19117047|\n",
      "|           basepay|16892638|\n",
      "|             bonus| 1579147|\n",
      "|        commission|  236913|\n",
      "|      shiftpremium|    4754|\n",
      "|shorttermincentive|      89|\n",
      "|              null|       1|\n",
      "+------------------+--------+\n",
      "\n",
      "None\n",
      "+--------------------------+\n",
      "|count(DISTINCT SalaryType)|\n",
      "+--------------------------+\n",
      "|                         7|\n",
      "+--------------------------+\n",
      "\n",
      "None\n"
     ]
    }
   ],
   "source": [
    "print(df.groupBy('SalaryType').count().sort(desc('count')).show())\n",
    "print(df.select(countDistinct(\"SalaryType\")).show())"
   ]
  },
  {
   "cell_type": "code",
   "execution_count": 72,
   "metadata": {},
   "outputs": [
    {
     "name": "stdout",
     "output_type": "stream",
     "text": [
      "+--------+--------+\n",
      "|JobHours|   count|\n",
      "+--------+--------+\n",
      "|fulltime|52040631|\n",
      "|      na|51653513|\n",
      "|parttime|11338497|\n",
      "|    null|       1|\n",
      "+--------+--------+\n",
      "\n",
      "None\n",
      "+------------------------+\n",
      "|count(DISTINCT JobHours)|\n",
      "+------------------------+\n",
      "|                       3|\n",
      "+------------------------+\n",
      "\n",
      "None\n"
     ]
    }
   ],
   "source": [
    "print(df.groupBy('JobHours').count().sort(desc('count')).show())\n",
    "print(df.select(countDistinct(\"JobHours\")).show())"
   ]
  },
  {
   "cell_type": "code",
   "execution_count": 73,
   "metadata": {},
   "outputs": [
    {
     "name": "stdout",
     "output_type": "stream",
     "text": [
      "+----------+---------+\n",
      "|Internship|    count|\n",
      "+----------+---------+\n",
      "|         0|113907545|\n",
      "|         1|  1125092|\n",
      "|      null|        5|\n",
      "+----------+---------+\n",
      "\n",
      "None\n",
      "+--------------------------+\n",
      "|count(DISTINCT Internship)|\n",
      "+--------------------------+\n",
      "|                         2|\n",
      "+--------------------------+\n",
      "\n",
      "None\n"
     ]
    }
   ],
   "source": [
    "print(df.groupBy('Internship').count().sort(desc('count')).show())\n",
    "print(df.select(countDistinct(\"Internship\")).show())"
   ]
  },
  {
   "cell_type": "code",
   "execution_count": 76,
   "metadata": {},
   "outputs": [
    {
     "name": "stdout",
     "output_type": "stream",
     "text": [
      "+----+--------+\n",
      "| Edu|   count|\n",
      "+----+--------+\n",
      "|   0|53465407|\n",
      "|  12|27191182|\n",
      "|  16|25168094|\n",
      "|  14| 5566809|\n",
      "|  18| 2480562|\n",
      "|  21| 1098780|\n",
      "|-999|   61807|\n",
      "|null|       1|\n",
      "+----+--------+\n",
      "\n",
      "None\n",
      "+-------------------+\n",
      "|count(DISTINCT Edu)|\n",
      "+-------------------+\n",
      "|                  7|\n",
      "+-------------------+\n",
      "\n",
      "None\n"
     ]
    }
   ],
   "source": [
    "print(df.groupBy('Edu').count().sort(desc('count')).show())\n",
    "print(df.select(countDistinct(\"Edu\")).show())"
   ]
  },
  {
   "cell_type": "code",
   "execution_count": 77,
   "metadata": {},
   "outputs": [
    {
     "name": "stdout",
     "output_type": "stream",
     "text": [
      "+----------+--------+\n",
      "|    MaxEdu|   count|\n",
      "+----------+--------+\n",
      "|         0|93917142|\n",
      "|        16| 7676629|\n",
      "|        18| 5173027|\n",
      "|        12| 3998086|\n",
      "|        14| 2675244|\n",
      "|        21| 1590856|\n",
      "|      -999|    1653|\n",
      "|Bachelor's|       4|\n",
      "|      null|       1|\n",
      "+----------+--------+\n",
      "\n",
      "None\n",
      "+----------------------+\n",
      "|count(DISTINCT MaxEdu)|\n",
      "+----------------------+\n",
      "|                     8|\n",
      "+----------------------+\n",
      "\n",
      "None\n"
     ]
    }
   ],
   "source": [
    "print(df.groupBy('MaxEdu').count().sort(desc('count')).show())\n",
    "print(df.select(countDistinct(\"MaxEdu\")).show())"
   ]
  },
  {
   "cell_type": "code",
   "execution_count": 122,
   "metadata": {},
   "outputs": [
    {
     "name": "stdout",
     "output_type": "stream",
     "text": [
      "115032642 53\n",
      "114994836 53\n"
     ]
    }
   ],
   "source": [
    "d1= df.dropna()\n",
    "print(df.count(), len(df.columns))\n",
    "print(d1.count(), len(d1.columns))"
   ]
  },
  {
   "cell_type": "code",
   "execution_count": 123,
   "metadata": {},
   "outputs": [
    {
     "name": "stdout",
     "output_type": "stream",
     "text": [
      "113870020 53\n"
     ]
    }
   ],
   "source": [
    "d1= d1.filter(d1.Internship=='0')\n",
    "print(d1.count(), len(d1.columns))"
   ]
  },
  {
   "cell_type": "code",
   "execution_count": 81,
   "metadata": {},
   "outputs": [
    {
     "name": "stdout",
     "output_type": "stream",
     "text": [
      "+----------+---------+\n",
      "|Internship|    count|\n",
      "+----------+---------+\n",
      "|         0|113870020|\n",
      "+----------+---------+\n",
      "\n",
      "None\n"
     ]
    }
   ],
   "source": [
    "print(d1.groupBy('Internship').count().sort(desc('count')).show())"
   ]
  },
  {
   "cell_type": "code",
   "execution_count": 124,
   "metadata": {},
   "outputs": [
    {
     "name": "stdout",
     "output_type": "stream",
     "text": [
      "51679527 53\n"
     ]
    }
   ],
   "source": [
    "d1= d1.filter(d1.JobHours=='fulltime')\n",
    "print(d1.count(), len(d1.columns))"
   ]
  },
  {
   "cell_type": "code",
   "execution_count": 125,
   "metadata": {},
   "outputs": [
    {
     "name": "stdout",
     "output_type": "stream",
     "text": [
      "22807848 53\n"
     ]
    }
   ],
   "source": [
    "d1= d1.filter(d1.PayFrequency!='na')\n",
    "print(d1.count(), len(d1.columns))"
   ]
  },
  {
   "cell_type": "code",
   "execution_count": 84,
   "metadata": {},
   "outputs": [
    {
     "name": "stdout",
     "output_type": "stream",
     "text": [
      "+------------+--------+\n",
      "|PayFrequency|   count|\n",
      "+------------+--------+\n",
      "|      hourly|12208686|\n",
      "|      annual| 9426702|\n",
      "|     monthly|  618252|\n",
      "|       daily|  410078|\n",
      "|      weekly|  144130|\n",
      "+------------+--------+\n",
      "\n",
      "None\n"
     ]
    }
   ],
   "source": [
    "print(d1.groupBy('PayFrequency').count().sort(desc('count')).show())"
   ]
  },
  {
   "cell_type": "code",
   "execution_count": 126,
   "metadata": {},
   "outputs": [
    {
     "name": "stdout",
     "output_type": "stream",
     "text": [
      "22651498 53\n"
     ]
    }
   ],
   "source": [
    "d1= d1.filter(d1.City!='na')\n",
    "print(d1.count(), len(d1.columns))"
   ]
  },
  {
   "cell_type": "code",
   "execution_count": 127,
   "metadata": {},
   "outputs": [
    {
     "name": "stdout",
     "output_type": "stream",
     "text": [
      "17651227 53\n"
     ]
    }
   ],
   "source": [
    "d1= d1.filter(d1.Employer!='na')\n",
    "print(d1.count(), len(d1.columns))"
   ]
  },
  {
   "cell_type": "code",
   "execution_count": 87,
   "metadata": {},
   "outputs": [
    {
     "name": "stdout",
     "output_type": "stream",
     "text": [
      "+--------------------+------+\n",
      "|            Employer| count|\n",
      "+--------------------+------+\n",
      "|              Amazon|513924|\n",
      "|       US Government| 86568|\n",
      "|Department of Vet...| 64852|\n",
      "|               FedEx| 38873|\n",
      "|             US Army| 38096|\n",
      "|United Parcel Ser...| 37020|\n",
      "|State Farm Insura...| 36277|\n",
      "|    Allied Universal| 31866|\n",
      "|   Anthem Blue Cross| 31461|\n",
      "|     Walmart / Sam's| 30336|\n",
      "|Lowe's Companies,...| 28935|\n",
      "|            Goodwill| 27253|\n",
      "|      Domino's Pizza| 26334|\n",
      "|Marriott Internat...| 26119|\n",
      "|        Hudson Group| 25466|\n",
      "|  UnitedHealth Group| 23585|\n",
      "|           Uc Health| 22926|\n",
      "|Hilton Hotel Corp...| 21970|\n",
      "|           Securitas| 21191|\n",
      "|         Chick-fil-A| 21179|\n",
      "+--------------------+------+\n",
      "only showing top 20 rows\n",
      "\n",
      "None\n"
     ]
    }
   ],
   "source": [
    "print(d1.groupBy('Employer').count().sort(desc('count')).show())"
   ]
  },
  {
   "cell_type": "code",
   "execution_count": 88,
   "metadata": {},
   "outputs": [
    {
     "name": "stdout",
     "output_type": "stream",
     "text": [
      "+------------------------+\n",
      "|count(DISTINCT Employer)|\n",
      "+------------------------+\n",
      "|                 1732984|\n",
      "+------------------------+\n",
      "\n",
      "None\n"
     ]
    }
   ],
   "source": [
    "print(d1.select(countDistinct(\"Employer\")).show())"
   ]
  },
  {
   "cell_type": "code",
   "execution_count": 128,
   "metadata": {},
   "outputs": [
    {
     "name": "stdout",
     "output_type": "stream",
     "text": [
      "7153311 53\n"
     ]
    }
   ],
   "source": [
    "d1= d1.filter(d1.Exp!='-999.0')\n",
    "print(d1.count(), len(d1.columns))"
   ]
  },
  {
   "cell_type": "code",
   "execution_count": 129,
   "metadata": {},
   "outputs": [
    {
     "name": "stdout",
     "output_type": "stream",
     "text": [
      "6949402 53\n"
     ]
    }
   ],
   "source": [
    "d1= d1.filter(d1.OccFam!='na')\n",
    "print(d1.count(), len(d1.columns))"
   ]
  },
  {
   "cell_type": "code",
   "execution_count": 130,
   "metadata": {},
   "outputs": [
    {
     "name": "stdout",
     "output_type": "stream",
     "text": [
      "5238189 53\n"
     ]
    }
   ],
   "source": [
    "d1= d1.filter(d1.SectorName!='na')\n",
    "print(d1.count(), len(d1.columns))"
   ]
  },
  {
   "cell_type": "code",
   "execution_count": 131,
   "metadata": {},
   "outputs": [
    {
     "name": "stdout",
     "output_type": "stream",
     "text": [
      "5079912 53\n"
     ]
    }
   ],
   "source": [
    "d1= d1.filter(d1.Specialty!='na')\n",
    "print(d1.count(), len(d1.columns))"
   ]
  },
  {
   "cell_type": "code",
   "execution_count": 132,
   "metadata": {},
   "outputs": [
    {
     "name": "stdout",
     "output_type": "stream",
     "text": [
      "5079912 53\n"
     ]
    }
   ],
   "source": [
    "d1= d1.filter(d1.ONETName!='na')\n",
    "print(d1.count(), len(d1.columns))"
   ]
  },
  {
   "cell_type": "code",
   "execution_count": 94,
   "metadata": {},
   "outputs": [
    {
     "name": "stdout",
     "output_type": "stream",
     "text": [
      "+--------------------+------+\n",
      "|            ONETName| count|\n",
      "+--------------------+------+\n",
      "|   Registered Nurses|242078|\n",
      "|Heavy and Tractor...|218544|\n",
      "|Sales Representat...|180583|\n",
      "|Customer Service ...|136480|\n",
      "|First-Line Superv...|119909|\n",
      "| Retail Salespersons| 93873|\n",
      "|Secretaries and A...| 90400|\n",
      "|Food Service Mana...| 90053|\n",
      "|Maintenance and R...| 83235|\n",
      "|Medical and Healt...| 68853|\n",
      "| Managers, All Other| 62339|\n",
      "|Human Resources S...| 57866|\n",
      "|General and Opera...| 56515|\n",
      "|     Security Guards| 54004|\n",
      "|Software Develope...| 52364|\n",
      "| Medical Secretaries| 51120|\n",
      "|Waiters and Waitr...| 50154|\n",
      "|  Medical Assistants| 48689|\n",
      "|Bookkeeping, Acco...| 48280|\n",
      "|Laborers and Frei...| 47437|\n",
      "+--------------------+------+\n",
      "only showing top 20 rows\n",
      "\n",
      "None\n",
      "+------------------------+\n",
      "|count(DISTINCT ONETName)|\n",
      "+------------------------+\n",
      "|                     948|\n",
      "+------------------------+\n",
      "\n",
      "None\n"
     ]
    }
   ],
   "source": [
    "print(d1.groupBy('ONETName').count().sort(desc('count')).show())\n",
    "print(d1.select(countDistinct(\"ONETName\")).show())"
   ]
  },
  {
   "cell_type": "code",
   "execution_count": 112,
   "metadata": {},
   "outputs": [
    {
     "name": "stdout",
     "output_type": "stream",
     "text": [
      "+--------------------+------+\n",
      "|            ONETName| count|\n",
      "+--------------------+------+\n",
      "|   Registered Nurses|212950|\n",
      "|Heavy and Tractor...|202970|\n",
      "|Sales Representat...|147995|\n",
      "|Customer Service ...| 99198|\n",
      "|First-Line Superv...| 90457|\n",
      "| Retail Salespersons| 74851|\n",
      "|Secretaries and A...| 73293|\n",
      "|Maintenance and R...| 67070|\n",
      "|Food Service Mana...| 56825|\n",
      "|     Security Guards| 48192|\n",
      "|Human Resources S...| 45417|\n",
      "|Medical and Healt...| 40539|\n",
      "|Licensed Practica...| 39607|\n",
      "| Medical Secretaries| 39140|\n",
      "| Personal Care Aides| 38277|\n",
      "|Laborers and Frei...| 37014|\n",
      "|Bookkeeping, Acco...| 36234|\n",
      "|Software Develope...| 35471|\n",
      "|      Sales Managers| 35425|\n",
      "|   Cooks, Restaurant| 34679|\n",
      "+--------------------+------+\n",
      "only showing top 20 rows\n",
      "\n",
      "None\n",
      "+------------------------+\n",
      "|count(DISTINCT ONETName)|\n",
      "+------------------------+\n",
      "|                     860|\n",
      "+------------------------+\n",
      "\n",
      "None\n"
     ]
    }
   ],
   "source": [
    "print(d1.groupBy('ONETName').count().sort(desc('count')).show())\n",
    "print(d1.select(countDistinct(\"ONETName\")).show())"
   ]
  },
  {
   "cell_type": "code",
   "execution_count": 133,
   "metadata": {},
   "outputs": [
    {
     "name": "stdout",
     "output_type": "stream",
     "text": [
      "5079912 53\n"
     ]
    }
   ],
   "source": [
    "d1= d1.filter(d1.SOCName!='na')\n",
    "print(d1.count(), len(d1.columns))"
   ]
  },
  {
   "cell_type": "code",
   "execution_count": 96,
   "metadata": {},
   "outputs": [
    {
     "name": "stdout",
     "output_type": "stream",
     "text": [
      "+--------------------+------+\n",
      "|             SOCName| count|\n",
      "+--------------------+------+\n",
      "|   Registered Nurses|273807|\n",
      "|Heavy and Tractor...|218544|\n",
      "|Sales Representat...|180583|\n",
      "|Customer Service ...|159503|\n",
      "|First-Line Superv...|119909|\n",
      "| Retail Salespersons| 93873|\n",
      "|Secretaries and A...| 90400|\n",
      "|Food Service Mana...| 90053|\n",
      "|Maintenance and R...| 83235|\n",
      "| Managers, All Other| 75755|\n",
      "|Computer Occupati...| 73864|\n",
      "|Medical and Healt...| 68853|\n",
      "|Human Resources S...| 57866|\n",
      "|General and Opera...| 56515|\n",
      "|     Security Guards| 54004|\n",
      "|Software Develope...| 52364|\n",
      "| Medical Secretaries| 51120|\n",
      "|Waiters and Waitr...| 50154|\n",
      "|  Medical Assistants| 48689|\n",
      "|Bookkeeping, Acco...| 48280|\n",
      "+--------------------+------+\n",
      "only showing top 20 rows\n",
      "\n",
      "None\n",
      "+-----------------------+\n",
      "|count(DISTINCT SOCName)|\n",
      "+-----------------------+\n",
      "|                    753|\n",
      "+-----------------------+\n",
      "\n",
      "None\n"
     ]
    }
   ],
   "source": [
    "print(d1.groupBy('SOCName').count().sort(desc('count')).show())\n",
    "print(d1.select(countDistinct(\"SOCName\")).show())"
   ]
  },
  {
   "cell_type": "code",
   "execution_count": 100,
   "metadata": {},
   "outputs": [
    {
     "name": "stdout",
     "output_type": "stream",
     "text": [
      "+--------------------+--------+\n",
      "|            Employer|   count|\n",
      "+--------------------+--------+\n",
      "|                  na|21284394|\n",
      "|              Amazon| 1162575|\n",
      "|   Anthem Blue Cross|  607580|\n",
      "|Lowe's Companies,...|  530288|\n",
      "|Marriott Internat...|  342434|\n",
      "|     Walmart / Sam's|  316357|\n",
      "|            Deloitte|  303811|\n",
      "|The Home Depot In...|  284424|\n",
      "|Hospital Corporat...|  269647|\n",
      "|    Allied Universal|  253425|\n",
      "|      Dollar General|  245264|\n",
      "|          CVS Health|  240223|\n",
      "|         Wells Fargo|  231169|\n",
      "|Walgreens Boots A...|  218070|\n",
      "|               FedEx|  204491|\n",
      "|              Humana|  202550|\n",
      "|  UnitedHealth Group|  184088|\n",
      "|             Aramark|  170884|\n",
      "|United Parcel Ser...|  165432|\n",
      "|          McDonald's|  164876|\n",
      "+--------------------+--------+\n",
      "only showing top 20 rows\n",
      "\n",
      "None\n",
      "+------------------------+\n",
      "|count(DISTINCT Employer)|\n",
      "+------------------------+\n",
      "|                 2731477|\n",
      "+------------------------+\n",
      "\n",
      "None\n"
     ]
    }
   ],
   "source": [
    "print(df.groupBy('Employer').count().sort(desc('count')).show())\n",
    "print(df.select(countDistinct(\"Employer\")).show())"
   ]
  },
  {
   "cell_type": "code",
   "execution_count": 97,
   "metadata": {},
   "outputs": [
    {
     "name": "stdout",
     "output_type": "stream",
     "text": [
      "+--------------------+-----+\n",
      "|            Employer|count|\n",
      "+--------------------+-----+\n",
      "|       US Government|59862|\n",
      "|Department of Vet...|45783|\n",
      "|   Anthem Blue Cross|25950|\n",
      "|Lowe's Companies,...|23393|\n",
      "|    Allied Universal|19412|\n",
      "|  UnitedHealth Group|18964|\n",
      "|      Aya Healthcare|17429|\n",
      "|         Wells Fargo|17414|\n",
      "|           Uc Health|15292|\n",
      "|Ryder System Inco...|14760|\n",
      "|Walgreens Boots A...|12411|\n",
      "|            Goodwill|12012|\n",
      "|        Nomad Health|11382|\n",
      "|             US Army|11141|\n",
      "|                USAA| 9949|\n",
      "|Mayo Foundation f...| 9910|\n",
      "|             Pearson| 9860|\n",
      "|              Amazon| 8957|\n",
      "|               FedEx| 8660|\n",
      "|Hilton Hotel Corp...| 7944|\n",
      "+--------------------+-----+\n",
      "only showing top 20 rows\n",
      "\n",
      "None\n",
      "+------------------------+\n",
      "|count(DISTINCT Employer)|\n",
      "+------------------------+\n",
      "|                  637626|\n",
      "+------------------------+\n",
      "\n",
      "None\n"
     ]
    }
   ],
   "source": [
    "print(d1.groupBy('Employer').count().sort(desc('count')).show())\n",
    "print(d1.select(countDistinct(\"Employer\")).show())"
   ]
  },
  {
   "cell_type": "code",
   "execution_count": 98,
   "metadata": {},
   "outputs": [
    {
     "name": "stdout",
     "output_type": "stream",
     "text": [
      "+--------------------+-----+\n",
      "|          CleanTitle|count|\n",
      "+--------------------+-----+\n",
      "|Customer Service ...|32203|\n",
      "|Sales Representative|22391|\n",
      "|Maintenance Techn...|21852|\n",
      "|    Registered Nurse|18339|\n",
      "|Administrative As...|17695|\n",
      "|     General Manager|17007|\n",
      "|   Assistant Manager|15762|\n",
      "|   Medical Assistant|15439|\n",
      "|       Store Manager|14814|\n",
      "|Outside Sales Rep...|13763|\n",
      "|Assistant Store M...|13180|\n",
      "|     Sales Associate|11882|\n",
      "|              Server|10920|\n",
      "|Inside Sales Repr...|10158|\n",
      "|     Project Manager|10018|\n",
      "|    Dental Assistant| 9296|\n",
      "|           Caregiver| 8548|\n",
      "|Retail Sales Asso...| 8016|\n",
      "|Licensed Practica...| 7916|\n",
      "| Pharmacy Technician| 7795|\n",
      "+--------------------+-----+\n",
      "only showing top 20 rows\n",
      "\n",
      "None\n",
      "+--------------------------+\n",
      "|count(DISTINCT CleanTitle)|\n",
      "+--------------------------+\n",
      "|                   1461350|\n",
      "+--------------------------+\n",
      "\n",
      "None\n"
     ]
    }
   ],
   "source": [
    "print(d1.groupBy('CleanTitle').count().sort(desc('count')).show())\n",
    "print(d1.select(countDistinct(\"CleanTitle\")).show())"
   ]
  },
  {
   "cell_type": "code",
   "execution_count": 99,
   "metadata": {},
   "outputs": [
    {
     "name": "stdout",
     "output_type": "stream",
     "text": [
      "+--------------------+-------+\n",
      "|          CanonTitle|  count|\n",
      "+--------------------+-------+\n",
      "|                  na|1519161|\n",
      "|Class A CDL Truck...| 131647|\n",
      "|    Registered Nurse| 116841|\n",
      "|Customer Service ...|  68394|\n",
      "|Sales Representative|  61949|\n",
      "|Maintenance Techn...|  46919|\n",
      "|Administrative As...|  44883|\n",
      "|   Assistant Manager|  42919|\n",
      "|     Sales Associate|  35903|\n",
      "|    Security Officer|  35832|\n",
      "|           Caregiver|  34574|\n",
      "|Licensed Practica...|  31412|\n",
      "|     Delivery Driver|  30588|\n",
      "|       Store Manager|  26969|\n",
      "|        Receptionist|  23856|\n",
      "|   Forklift Operator|  22485|\n",
      "|           Bartender|  19571|\n",
      "|Outside Sales Rep...|  19447|\n",
      "|Assistant Store M...|  18533|\n",
      "|           Line Cook|  18376|\n",
      "+--------------------+-------+\n",
      "only showing top 20 rows\n",
      "\n",
      "None\n",
      "+--------------------------+\n",
      "|count(DISTINCT CanonTitle)|\n",
      "+--------------------------+\n",
      "|                      8515|\n",
      "+--------------------------+\n",
      "\n",
      "None\n"
     ]
    }
   ],
   "source": [
    "print(d1.groupBy('CanonTitle').count().sort(desc('count')).show())\n",
    "print(d1.select(countDistinct(\"CanonTitle\")).show())"
   ]
  },
  {
   "cell_type": "code",
   "execution_count": 134,
   "metadata": {},
   "outputs": [
    {
     "name": "stdout",
     "output_type": "stream",
     "text": [
      "5079816 53\n"
     ]
    }
   ],
   "source": [
    "d1= d1.filter(d1.CleanTitle!='na')\n",
    "print(d1.count(), len(d1.columns))"
   ]
  },
  {
   "cell_type": "code",
   "execution_count": 135,
   "metadata": {},
   "outputs": [
    {
     "name": "stdout",
     "output_type": "stream",
     "text": [
      "3560751 53\n"
     ]
    }
   ],
   "source": [
    "d1= d1.filter(d1.CanonTitle!='na')     \n",
    "print(d1.count(), len(d1.columns))"
   ]
  },
  {
   "cell_type": "code",
   "execution_count": null,
   "metadata": {},
   "outputs": [],
   "source": [
    "# df.withColumn('CanonTitle', coalesce('CanonTitle', 'CleanTitle')).show()"
   ]
  },
  {
   "cell_type": "code",
   "execution_count": 105,
   "metadata": {},
   "outputs": [
    {
     "name": "stdout",
     "output_type": "stream",
     "text": [
      "+------------------+-------+\n",
      "|        SalaryType|  count|\n",
      "+------------------+-------+\n",
      "|              none|1677931|\n",
      "|           basepay|1672033|\n",
      "|             bonus| 189705|\n",
      "|        commission|  20810|\n",
      "|      shiftpremium|    256|\n",
      "|shorttermincentive|     16|\n",
      "+------------------+-------+\n",
      "\n",
      "None\n",
      "+--------------------------+\n",
      "|count(DISTINCT SalaryType)|\n",
      "+--------------------------+\n",
      "|                         6|\n",
      "+--------------------------+\n",
      "\n",
      "None\n"
     ]
    }
   ],
   "source": [
    "print(d1.groupBy('SalaryType').count().sort(desc('count')).show())\n",
    "print(d1.select(countDistinct(\"SalaryType\")).show())"
   ]
  },
  {
   "cell_type": "code",
   "execution_count": 116,
   "metadata": {},
   "outputs": [
    {
     "name": "stdout",
     "output_type": "stream",
     "text": [
      "+--------------------+-----+\n",
      "|          CanonTitle|count|\n",
      "+--------------------+-----+\n",
      "|Software Developm...| 9859|\n",
      "|  Software Developer| 3108|\n",
      "|    Software Manager|  679|\n",
      "|Principal Softwar...|  571|\n",
      "|Software Engineer...|  514|\n",
      "|Software Developm...|  412|\n",
      "|  Software Architect|  400|\n",
      "|Software Quality ...|  158|\n",
      "|Software Test Eng...|  148|\n",
      "|     Software Tester|  135|\n",
      "|Software Systems ...|  119|\n",
      "|Junior Software D...|   66|\n",
      "|Junior Software E...|   55|\n",
      "|Software Design E...|   48|\n",
      "|C++ Software Engi...|   39|\n",
      "|Software Developm...|   36|\n",
      "|Software Account ...|   36|\n",
      "|Software Support ...|   27|\n",
      "|Web Software Deve...|   26|\n",
      "|Embedded Software...|   10|\n",
      "+--------------------+-----+\n",
      "only showing top 20 rows\n",
      "\n"
     ]
    }
   ],
   "source": [
    "d1.filter(col(\"CanonTitle\").contains(\"Software\")).groupBy('CanonTitle').count().sort(desc('count')).show()"
   ]
  },
  {
   "cell_type": "code",
   "execution_count": 118,
   "metadata": {},
   "outputs": [
    {
     "name": "stdout",
     "output_type": "stream",
     "text": [
      "+--------------------+-----+\n",
      "|          CanonTitle|count|\n",
      "+--------------------+-----+\n",
      "|        Data Analyst| 5560|\n",
      "|Database Administ...| 1590|\n",
      "|    Data Entry Clerk| 1466|\n",
      "|      Data Architect|  978|\n",
      "|Business Data Ana...|  482|\n",
      "|Clinical Data Man...|  474|\n",
      "|Data Entry Techni...|  383|\n",
      "|Sql Server Databa...|  318|\n",
      "|    Database Analyst|  298|\n",
      "|Oracle Database A...|  273|\n",
      "|Healthcare Data A...|  264|\n",
      "|  Database Developer|  245|\n",
      "| Database Specialist|  237|\n",
      "|   Database Engineer|  229|\n",
      "|SQL Database Admi...|  179|\n",
      "|Data Quality Analyst|  170|\n",
      "|        Data Modeler|  169|\n",
      "|Data Warehouse De...|  117|\n",
      "|Data Warehouse An...|   92|\n",
      "|Marketing Data An...|   85|\n",
      "+--------------------+-----+\n",
      "only showing top 20 rows\n",
      "\n"
     ]
    }
   ],
   "source": [
    "d1.filter(col(\"CanonTitle\").contains(\"Data\")).groupBy('CanonTitle').count().sort(desc('count')).show()"
   ]
  },
  {
   "cell_type": "code",
   "execution_count": 117,
   "metadata": {},
   "outputs": [
    {
     "name": "stdout",
     "output_type": "stream",
     "text": [
      "+--------------------+-----+\n",
      "|          CleanTitle|count|\n",
      "+--------------------+-----+\n",
      "|   Software Engineer|  983|\n",
      "|Senior Software E...|  812|\n",
      "|  Software Developer|  757|\n",
      "|Senior Software D...|  278|\n",
      "|Senior Software E...|  219|\n",
      "|Principal Softwar...|  147|\n",
      "|Software Engineer II|  136|\n",
      "|Software Engineer...|  132|\n",
      "|Lead Software Eng...|  128|\n",
      "|Software Developm...|  124|\n",
      "|Senior Software E...|  121|\n",
      "|Embedded Software...|   94|\n",
      "|Software Engineer...|   88|\n",
      "|Software Developm...|   87|\n",
      "|  Software Architect|   74|\n",
      "|Principal Softwar...|   73|\n",
      "|Senior Software E...|   66|\n",
      "|Manager, Software...|   64|\n",
      "| Software Engineer I|   62|\n",
      "|Software Project ...|   59|\n",
      "+--------------------+-----+\n",
      "only showing top 20 rows\n",
      "\n"
     ]
    }
   ],
   "source": [
    "d1.filter(col(\"CanonTitle\").contains(\"Software\")).groupBy('CleanTitle').count().sort(desc('count')).show()"
   ]
  },
  {
   "cell_type": "code",
   "execution_count": 136,
   "metadata": {},
   "outputs": [
    {
     "name": "stdout",
     "output_type": "stream",
     "text": [
      "1672033 53\n"
     ]
    }
   ],
   "source": [
    "d1= d1.filter(d1.SalaryType=='basepay')     \n",
    "print(d1.count(), len(d1.columns))"
   ]
  },
  {
   "cell_type": "code",
   "execution_count": 137,
   "metadata": {},
   "outputs": [
    {
     "name": "stdout",
     "output_type": "stream",
     "text": [
      "+--------------------+-----+\n",
      "|          CanonTitle|count|\n",
      "+--------------------+-----+\n",
      "|Software Developm...| 4395|\n",
      "|  Software Developer| 1472|\n",
      "|Principal Softwar...|  228|\n",
      "|    Software Manager|  210|\n",
      "|Software Developm...|  154|\n",
      "|  Software Architect|  149|\n",
      "|Software Engineer...|  143|\n",
      "|Software Quality ...|   74|\n",
      "|Software Test Eng...|   66|\n",
      "|Software Systems ...|   60|\n",
      "|     Software Tester|   52|\n",
      "|Junior Software E...|   28|\n",
      "|Junior Software D...|   27|\n",
      "|Software Design E...|   25|\n",
      "|Web Software Deve...|   18|\n",
      "|Software Support ...|   16|\n",
      "|C++ Software Engi...|   14|\n",
      "|Software Account ...|   11|\n",
      "|Software Developm...|   10|\n",
      "|Embedded Software...|    3|\n",
      "+--------------------+-----+\n",
      "only showing top 20 rows\n",
      "\n"
     ]
    }
   ],
   "source": [
    "d1.filter(col(\"CanonTitle\").contains(\"Software\")).groupBy('CanonTitle').count().sort(desc('count')).show()"
   ]
  },
  {
   "cell_type": "code",
   "execution_count": 142,
   "metadata": {},
   "outputs": [
    {
     "name": "stdout",
     "output_type": "stream",
     "text": [
      "+--------------------+-----+\n",
      "|          CanonTitle|count|\n",
      "+--------------------+-----+\n",
      "|        Data Analyst| 2284|\n",
      "|Database Administ...|  792|\n",
      "|    Data Entry Clerk|  706|\n",
      "|      Data Architect|  396|\n",
      "|Business Data Ana...|  179|\n",
      "|Data Entry Techni...|  153|\n",
      "|Clinical Data Man...|  143|\n",
      "|Oracle Database A...|  142|\n",
      "|    Database Analyst|  127|\n",
      "| Database Specialist|  117|\n",
      "|Sql Server Databa...|  108|\n",
      "|   Database Engineer|   85|\n",
      "|  Database Developer|   80|\n",
      "|Data Quality Analyst|   73|\n",
      "|Healthcare Data A...|   70|\n",
      "|        Data Modeler|   69|\n",
      "|SQL Database Admi...|   64|\n",
      "|Data Warehouse De...|   41|\n",
      "|Data Warehouse An...|   40|\n",
      "|Business Intellig...|   36|\n",
      "+--------------------+-----+\n",
      "only showing top 20 rows\n",
      "\n"
     ]
    }
   ],
   "source": [
    "d1.filter(col(\"CanonTitle\").contains(\"Data\")).groupBy('CanonTitle').count().sort(desc('count')).show()"
   ]
  },
  {
   "cell_type": "code",
   "execution_count": 141,
   "metadata": {},
   "outputs": [
    {
     "name": "stdout",
     "output_type": "stream",
     "text": [
      "+--------------------+-----+\n",
      "|            Employer|count|\n",
      "+--------------------+-----+\n",
      "|       US Government|34200|\n",
      "|Department of Vet...|32457|\n",
      "|    Allied Universal|11679|\n",
      "|Lowe's Companies,...| 7303|\n",
      "|             US Army| 7287|\n",
      "|Ryder System Inco...| 6076|\n",
      "|Walgreens Boots A...| 6023|\n",
      "|         Wells Fargo| 5509|\n",
      "|        Nomad Health| 5410|\n",
      "|                USAA| 5005|\n",
      "|                 G4S| 4431|\n",
      "|Washington Univer...| 4311|\n",
      "|           Uc Health| 4024|\n",
      "|            Goodwill| 3986|\n",
      "|colorado state go...| 3838|\n",
      "|               Honor| 3768|\n",
      "|University of Was...| 3584|\n",
      "|Internal Revenue ...| 3561|\n",
      "|     Department Army| 3512|\n",
      "|Nursefly Travel N...| 3407|\n",
      "+--------------------+-----+\n",
      "only showing top 20 rows\n",
      "\n",
      "None\n",
      "+------------------------+\n",
      "|count(DISTINCT Employer)|\n",
      "+------------------------+\n",
      "|                  313773|\n",
      "+------------------------+\n",
      "\n",
      "None\n"
     ]
    }
   ],
   "source": [
    "print(d1.groupBy('Employer').count().sort(desc('count')).show())\n",
    "print(d1.select(countDistinct(\"Employer\")).show())"
   ]
  },
  {
   "cell_type": "code",
   "execution_count": 152,
   "metadata": {},
   "outputs": [
    {
     "name": "stdout",
     "output_type": "stream",
     "text": [
      "+--------------------+-----+\n",
      "|            Employer|count|\n",
      "+--------------------+-----+\n",
      "|    Allied Universal|11679|\n",
      "|Lowe's Companies,...| 7303|\n",
      "|Ryder System Inco...| 6076|\n",
      "|Walgreens Boots A...| 6023|\n",
      "|         Wells Fargo| 5507|\n",
      "|        Nomad Health| 5410|\n",
      "|                USAA| 5005|\n",
      "|                 G4S| 4431|\n",
      "|Washington Univer...| 4311|\n",
      "|           Uc Health| 4024|\n",
      "|            Goodwill| 3985|\n",
      "|               Honor| 3768|\n",
      "|University of Was...| 3584|\n",
      "|Internal Revenue ...| 3561|\n",
      "|Nursefly Travel N...| 3407|\n",
      "|           Pizza Hut| 3371|\n",
      "|                Aldi| 3279|\n",
      "|Texas Health Reso...| 3254|\n",
      "|         Holiday Inn| 3174|\n",
      "|Indian Health Ser...| 3149|\n",
      "+--------------------+-----+\n",
      "only showing top 20 rows\n",
      "\n"
     ]
    }
   ],
   "source": [
    "d1.filter(~((d1.Employer.contains('Government')) |\n",
    " (d1.Employer.contains('government')) |\n",
    " (d1.Employer.contains('Department ')) |\n",
    " (d1.Employer.contains('department ')) |\n",
    " (d1.Employer.contains('Army')) |\n",
    " (d1.Employer.contains('army')))\n",
    " ).groupBy('Employer').count().sort(desc('count')).show()"
   ]
  },
  {
   "cell_type": "code",
   "execution_count": 138,
   "metadata": {},
   "outputs": [
    {
     "name": "stdout",
     "output_type": "stream",
     "text": [
      "+----+------+\n",
      "| Edu| count|\n",
      "+----+------+\n",
      "|  12|592844|\n",
      "|   0|557402|\n",
      "|  16|329360|\n",
      "|  14|125506|\n",
      "|  18| 43183|\n",
      "|  21| 21596|\n",
      "|-999|  2142|\n",
      "+----+------+\n",
      "\n",
      "None\n",
      "+-------------------+\n",
      "|count(DISTINCT Edu)|\n",
      "+-------------------+\n",
      "|                  7|\n",
      "+-------------------+\n",
      "\n",
      "None\n"
     ]
    }
   ],
   "source": [
    "print(d1.groupBy('Edu').count().sort(desc('count')).show())\n",
    "print(d1.select(countDistinct(\"Edu\")).show())"
   ]
  },
  {
   "cell_type": "code",
   "execution_count": 139,
   "metadata": {},
   "outputs": [
    {
     "name": "stdout",
     "output_type": "stream",
     "text": [
      "+-----------+------+\n",
      "|     Degree| count|\n",
      "+-----------+------+\n",
      "|High School|592844|\n",
      "|         na|560587|\n",
      "| Bachelor's|329360|\n",
      "|Associate's|124463|\n",
      "|   Master's| 43183|\n",
      "|        PhD| 21596|\n",
      "+-----------+------+\n",
      "\n",
      "None\n",
      "+----------------------+\n",
      "|count(DISTINCT Degree)|\n",
      "+----------------------+\n",
      "|                     6|\n",
      "+----------------------+\n",
      "\n",
      "None\n"
     ]
    }
   ],
   "source": [
    "print(d1.groupBy('Degree').count().sort(desc('count')).show())\n",
    "print(d1.select(countDistinct(\"Degree\")).show())"
   ]
  },
  {
   "cell_type": "code",
   "execution_count": 140,
   "metadata": {},
   "outputs": [
    {
     "name": "stdout",
     "output_type": "stream",
     "text": [
      "+----+------+\n",
      "| Exp| count|\n",
      "+----+------+\n",
      "| 1.0|619569|\n",
      "| 2.0|375305|\n",
      "| 3.0|245939|\n",
      "| 5.0|158927|\n",
      "| 4.0| 72440|\n",
      "| 0.5| 70005|\n",
      "|10.0| 34448|\n",
      "| 6.0| 18934|\n",
      "| 7.0| 18553|\n",
      "| 8.0| 13997|\n",
      "|0.25| 13129|\n",
      "|0.08|  5747|\n",
      "| 1.5|  5189|\n",
      "|12.0|  5085|\n",
      "|15.0|  4750|\n",
      "| 9.0|  2451|\n",
      "|0.42|  1664|\n",
      "|0.33|  1018|\n",
      "|11.0|   925|\n",
      "|14.0|   914|\n",
      "+----+------+\n",
      "only showing top 20 rows\n",
      "\n",
      "None\n",
      "+-------------------+\n",
      "|count(DISTINCT Exp)|\n",
      "+-------------------+\n",
      "|                 38|\n",
      "+-------------------+\n",
      "\n",
      "None\n"
     ]
    }
   ],
   "source": [
    "print(d1.groupBy('Exp').count().sort(desc('count')).show())\n",
    "print(d1.select(countDistinct(\"Exp\")).show())"
   ]
  },
  {
   "cell_type": "code",
   "execution_count": 143,
   "metadata": {},
   "outputs": [
    {
     "name": "stdout",
     "output_type": "stream",
     "text": [
      "1669891 53\n"
     ]
    }
   ],
   "source": [
    "d1= d1.filter(d1.Edu!='-999')\n",
    "print(d1.count(), len(d1.columns))"
   ]
  },
  {
   "cell_type": "code",
   "execution_count": 146,
   "metadata": {},
   "outputs": [],
   "source": [
    "columns= [\n",
    " 'JobID',\n",
    " 'JobDate',\n",
    " 'CleanTitle',\n",
    " 'CanonTitle',\n",
    " 'OccFam',\n",
    " 'OccFamName',\n",
    " 'SOC',\n",
    " 'SOCName',\n",
    " 'ONET',\n",
    " 'ONETName',\n",
    " 'Employer',\n",
    " 'Sector',\n",
    " 'SectorName',\n",
    " 'NAICS3',\n",
    " 'City',\n",
    " 'County',\n",
    " 'State',\n",
    " 'Lat',\n",
    " 'Lon',\n",
    " 'Edu',\n",
    " 'Degree',\n",
    " 'Exp',\n",
    " 'MinSalary',\n",
    " 'MaxSalary',\n",
    " 'MinHrlySalary',\n",
    " 'MaxHrlySalary',\n",
    " 'PayFrequency']"
   ]
  },
  {
   "cell_type": "code",
   "execution_count": 148,
   "metadata": {},
   "outputs": [
    {
     "name": "stdout",
     "output_type": "stream",
     "text": [
      "1669891 53\n"
     ]
    }
   ],
   "source": [
    "print(d1.count(), len(d1.columns))"
   ]
  },
  {
   "cell_type": "code",
   "execution_count": 149,
   "metadata": {},
   "outputs": [
    {
     "name": "stdout",
     "output_type": "stream",
     "text": [
      "1669891 28\n"
     ]
    }
   ],
   "source": [
    "d2= d1.select([c for c in d1.columns if c in columns])\n",
    "print(d2.count(), len(d2.columns))"
   ]
  },
  {
   "cell_type": "code",
   "execution_count": 1,
   "metadata": {},
   "outputs": [],
   "source": [
    "dff = d2.toPandas()\n",
    "# print(dff.info())"
   ]
  },
  {
   "cell_type": "code",
   "execution_count": 151,
   "metadata": {},
   "outputs": [
    {
     "data": {
      "text/plain": [
       "2353790399"
      ]
     },
     "execution_count": 151,
     "metadata": {},
     "output_type": "execute_result"
    }
   ],
   "source": [
    "sys.getsizeof(dff)"
   ]
  },
  {
   "cell_type": "code",
   "execution_count": 161,
   "metadata": {},
   "outputs": [
    {
     "name": "stdout",
     "output_type": "stream",
     "text": [
      "1551473 53\n"
     ]
    }
   ],
   "source": [
    "d2= d1.filter(~((d1.Employer.contains('Government')) |\n",
    " (d1.Employer.contains('government')) |\n",
    " (d1.Employer.contains('Department ')) |\n",
    " (d1.Employer.contains('department ')) |\n",
    " (d1.Employer.contains('Army')) |\n",
    " (d1.Employer.contains('army')))\n",
    " )\n",
    "print(d2.count(), len(d2.columns))"
   ]
  },
  {
   "cell_type": "code",
   "execution_count": 156,
   "metadata": {},
   "outputs": [
    {
     "name": "stdout",
     "output_type": "stream",
     "text": [
      "1669891 28\n"
     ]
    }
   ],
   "source": [
    "d2= d1.select([c for c in d1.columns if c in columns])\n",
    "print(d2.count(), len(d2.columns))"
   ]
  },
  {
   "cell_type": "code",
   "execution_count": 157,
   "metadata": {},
   "outputs": [
    {
     "name": "stdout",
     "output_type": "stream",
     "text": [
      "+--------------------+-----+\n",
      "|          CanonTitle|count|\n",
      "+--------------------+-----+\n",
      "|Software Developm...| 4395|\n",
      "|  Software Developer| 1472|\n",
      "|Principal Softwar...|  228|\n",
      "|    Software Manager|  210|\n",
      "|Software Developm...|  154|\n",
      "|  Software Architect|  149|\n",
      "|Software Engineer...|  143|\n",
      "|Software Quality ...|   74|\n",
      "|Software Test Eng...|   66|\n",
      "|Software Systems ...|   60|\n",
      "|     Software Tester|   52|\n",
      "|Junior Software E...|   28|\n",
      "|Junior Software D...|   27|\n",
      "|Software Design E...|   25|\n",
      "|Web Software Deve...|   18|\n",
      "|Software Support ...|   16|\n",
      "|C++ Software Engi...|   14|\n",
      "|Software Account ...|   11|\n",
      "|Software Developm...|   10|\n",
      "|Embedded Software...|    3|\n",
      "+--------------------+-----+\n",
      "only showing top 20 rows\n",
      "\n"
     ]
    }
   ],
   "source": [
    "d2.filter(col(\"CanonTitle\").contains(\"Software\")).groupBy('CanonTitle').count().sort(desc('count')).show()"
   ]
  },
  {
   "cell_type": "code",
   "execution_count": 2,
   "metadata": {},
   "outputs": [],
   "source": [
    "dffp = d2.toPandas()\n",
    "# print(dffp.info())"
   ]
  },
  {
   "cell_type": "code",
   "execution_count": 165,
   "metadata": {},
   "outputs": [
    {
     "data": {
      "text/plain": [
       "(1551473, 28)"
      ]
     },
     "execution_count": 165,
     "metadata": {},
     "output_type": "execute_result"
    }
   ],
   "source": [
    "dffp= dffp[columns]\n",
    "dffp.shape"
   ]
  },
  {
   "cell_type": "code",
   "execution_count": 166,
   "metadata": {},
   "outputs": [
    {
     "data": {
      "text/plain": [
       "2187312531"
      ]
     },
     "execution_count": 166,
     "metadata": {},
     "output_type": "execute_result"
    }
   ],
   "source": [
    "sys.getsizeof(dffp)"
   ]
  },
  {
   "cell_type": "code",
   "execution_count": 167,
   "metadata": {},
   "outputs": [],
   "source": [
    "os.chdir(r\"D:\\OneDrive - Indian School of Business\\Desktop\\jobsAnalysis\")"
   ]
  },
  {
   "cell_type": "code",
   "execution_count": 170,
   "metadata": {},
   "outputs": [],
   "source": [
    "dff.to_csv(r\"jobs_data_v2.csv\", index=False)"
   ]
  },
  {
   "cell_type": "code",
   "execution_count": 169,
   "metadata": {},
   "outputs": [
    {
     "name": "stdout",
     "output_type": "stream",
     "text": [
      "Variable        Type                          Data/Info\n",
      "-------------------------------------------------------\n",
      "DataFrame       type                          <class 'pyspark.sql.dataframe.DataFrame'>\n",
      "DateQuarter     type                          <class 'datequarter.quarter.DateQuarter'>\n",
      "Parallel        type                          <class 'joblib.parallel.Parallel'>\n",
      "SparkSession    type                          <class 'pyspark.sql.session.SparkSession'>\n",
      "coalesce        function                      <function coalesce at 0x0000024239CB0790>\n",
      "col             function                      <function col at 0x0000024239C95AF0>\n",
      "columns         list                          n=28\n",
      "count           function                      <function count at 0x0000024239CAB0D0>\n",
      "countDistinct   function                      <function countDistinct at 0x0000024239CB0AF0>\n",
      "csv             module                        <module 'csv' from 'c:\\\\U<...>\\Anaconda3\\\\lib\\\\csv.py'>\n",
      "d1              DataFrame                     DataFrame[BGTJobId: bigin<...> string, Internship: int]\n",
      "d2              DataFrame                     DataFrame[BGTJobId: bigin<...> string, Internship: int]\n",
      "dask            module                        <module 'dask' from 'c:\\\\<...>ages\\\\dask\\\\__init__.py'>\n",
      "datetime        module                        <module 'datetime' from '<...>onda3\\\\lib\\\\datetime.py'>\n",
      "dd              module                        <module 'dask.dataframe' <...>\\dataframe\\\\__init__.py'>\n",
      "delayed         function                      <function delayed at 0x000002420A005C10>\n",
      "desc            function                      <function desc at 0x0000024239C95C10>\n",
      "df              DataFrame                     DataFrame[BGTJobId: bigin<...> string, Internship: int]\n",
      "dff             DataFrame                                 BGTJobId     <...>669891 rows x 28 columns]\n",
      "dffp            DataFrame                                 BGTJobId     <...>551473 rows x 28 columns]\n",
      "f               str                           Main_2021-12.txt\n",
      "isnan           function                      <function isnan at 0x0000024239CB0DC0>\n",
      "isnull          function                      <function isnull at 0x0000024239CB0F70>\n",
      "joblib          module                        <module 'joblib' from 'c:<...>es\\\\joblib\\\\__init__.py'>\n",
      "json            module                        <module 'json' from 'c:\\\\<...>\\lib\\\\json\\\\__init__.py'>\n",
      "literal_eval    function                      <function literal_eval at 0x0000024203D1DD30>\n",
      "np              module                        <module 'numpy' from 'c:\\<...>ges\\\\numpy\\\\__init__.py'>\n",
      "os              module                        <module 'os' from 'c:\\\\Us<...>\\\\Anaconda3\\\\lib\\\\os.py'>\n",
      "pd              module                        <module 'pandas' from 'c:<...>es\\\\pandas\\\\__init__.py'>\n",
      "punc            str                           !\"#$%&'()*+,-./:;<=>?@[\\]^_`{|}~\n",
      "pyspark         module                        <module 'pyspark' from 'c<...>s\\\\pyspark\\\\__init__.py'>\n",
      "re              module                        <module 're' from 'c:\\\\Us<...>\\\\Anaconda3\\\\lib\\\\re.py'>\n",
      "reduce          builtin_function_or_method    <built-in function reduce>\n",
      "shutil          module                        <module 'shutil' from 'c:<...>aconda3\\\\lib\\\\shutil.py'>\n",
      "spark           SparkSession                  <pyspark.sql.session.Spar<...>ct at 0x0000024239E2BAC0>\n",
      "string          module                        <module 'string' from 'c:<...>aconda3\\\\lib\\\\string.py'>\n",
      "substring       function                      <function substring at 0x0000024239CBD0D0>\n",
      "sum             function                      <function sum at 0x0000024239CAB1F0>\n",
      "sys             module                        <module 'sys' (built-in)>\n",
      "time            module                        <module 'time' (built-in)>\n",
      "tqdm            type                          <class 'tqdm.std.tqdm'>\n",
      "unionAll        function                      <function unionAll at 0x0000024239E2ACA0>\n",
      "when            function                      <function when at 0x0000024239CB3AF0>\n",
      "yr              str                           2021\n"
     ]
    }
   ],
   "source": [
    "%whos"
   ]
  },
  {
   "cell_type": "code",
   "execution_count": 171,
   "metadata": {},
   "outputs": [],
   "source": [
    "del yr, df, dffp, d1, d2"
   ]
  },
  {
   "cell_type": "markdown",
   "metadata": {},
   "source": [
    "# Read and filter skills"
   ]
  },
  {
   "cell_type": "code",
   "execution_count": 174,
   "metadata": {},
   "outputs": [],
   "source": [
    "os.chdir(r'E:\\DATA_JOBS\\Skill')"
   ]
  },
  {
   "cell_type": "code",
   "execution_count": 176,
   "metadata": {},
   "outputs": [
    {
     "data": {
      "text/plain": [
       "(29769230, 9)"
      ]
     },
     "execution_count": 176,
     "metadata": {},
     "output_type": "execute_result"
    }
   ],
   "source": [
    "df = spark.read.options(delimiter='\\t').csv(r\"{0}\\\\{1}\".format(os.getcwd(), '2021/Skills_2021-01.txt'), header=True, inferSchema=True)\n",
    "df.count(), len(df.columns)"
   ]
  },
  {
   "cell_type": "code",
   "execution_count": 178,
   "metadata": {},
   "outputs": [
    {
     "name": "stderr",
     "output_type": "stream",
     "text": [
      "  0%|          | 0/24 [00:00<?, ?it/s]"
     ]
    },
    {
     "name": "stdout",
     "output_type": "stream",
     "text": [
      "Skills_2019-01.txt\n",
      "Skills_2019-01.txt done\n"
     ]
    },
    {
     "name": "stderr",
     "output_type": "stream",
     "text": [
      "  4%|▍         | 1/24 [00:15<06:07, 15.96s/it]"
     ]
    },
    {
     "name": "stdout",
     "output_type": "stream",
     "text": [
      "57143115 9\n",
      "Skills_2019-02.txt\n",
      "Skills_2019-02.txt done\n"
     ]
    },
    {
     "name": "stderr",
     "output_type": "stream",
     "text": [
      " 12%|█▎        | 3/24 [00:35<03:56, 11.24s/it]"
     ]
    },
    {
     "name": "stdout",
     "output_type": "stream",
     "text": [
      "82732737 9\n",
      "Skills_2019-03.txt\n",
      "Skills_2019-03.txt done\n"
     ]
    },
    {
     "name": "stderr",
     "output_type": "stream",
     "text": [
      " 21%|██        | 5/24 [01:00<03:46, 11.91s/it]"
     ]
    },
    {
     "name": "stdout",
     "output_type": "stream",
     "text": [
      "110950445 9\n",
      "Skills_2019-04.txt\n",
      "Skills_2019-04.txt done\n"
     ]
    },
    {
     "name": "stderr",
     "output_type": "stream",
     "text": [
      " 29%|██▉       | 7/24 [01:32<03:51, 13.60s/it]"
     ]
    },
    {
     "name": "stdout",
     "output_type": "stream",
     "text": [
      "136057754 9\n",
      "Skills_2019-05.txt\n",
      "Skills_2019-05.txt done\n"
     ]
    },
    {
     "name": "stderr",
     "output_type": "stream",
     "text": [
      " 38%|███▊      | 9/24 [01:54<03:10, 12.69s/it]"
     ]
    },
    {
     "name": "stdout",
     "output_type": "stream",
     "text": [
      "165737376 9\n",
      "Skills_2019-06.txt\n",
      "Skills_2019-06.txt done\n"
     ]
    },
    {
     "name": "stderr",
     "output_type": "stream",
     "text": [
      " 46%|████▌     | 11/24 [02:17<02:39, 12.27s/it]"
     ]
    },
    {
     "name": "stdout",
     "output_type": "stream",
     "text": [
      "191071129 9\n",
      "Skills_2019-07.txt\n",
      "Skills_2019-07.txt done\n"
     ]
    },
    {
     "name": "stderr",
     "output_type": "stream",
     "text": [
      " 54%|█████▍    | 13/24 [02:47<02:25, 13.27s/it]"
     ]
    },
    {
     "name": "stdout",
     "output_type": "stream",
     "text": [
      "213258070 9\n",
      "Skills_2019-08.txt\n",
      "Skills_2019-08.txt done\n"
     ]
    },
    {
     "name": "stderr",
     "output_type": "stream",
     "text": [
      " 62%|██████▎   | 15/24 [03:15<02:01, 13.46s/it]"
     ]
    },
    {
     "name": "stdout",
     "output_type": "stream",
     "text": [
      "245916736 9\n",
      "Skills_2019-09.txt\n",
      "Skills_2019-09.txt done\n"
     ]
    },
    {
     "name": "stderr",
     "output_type": "stream",
     "text": [
      " 71%|███████   | 17/24 [03:59<01:53, 16.17s/it]"
     ]
    },
    {
     "name": "stdout",
     "output_type": "stream",
     "text": [
      "278395346 9\n",
      "Skills_2019-10.txt\n",
      "Skills_2019-10.txt done\n"
     ]
    },
    {
     "name": "stderr",
     "output_type": "stream",
     "text": [
      " 79%|███████▉  | 19/24 [04:35<01:23, 16.73s/it]"
     ]
    },
    {
     "name": "stdout",
     "output_type": "stream",
     "text": [
      "310245617 9\n",
      "Skills_2019-11.txt\n",
      "Skills_2019-11.txt done\n"
     ]
    },
    {
     "name": "stderr",
     "output_type": "stream",
     "text": [
      " 88%|████████▊ | 21/24 [05:08<00:49, 16.56s/it]"
     ]
    },
    {
     "name": "stdout",
     "output_type": "stream",
     "text": [
      "339427991 9\n",
      "Skills_2019-12.txt\n",
      "Skills_2019-12.txt done\n"
     ]
    },
    {
     "name": "stderr",
     "output_type": "stream",
     "text": [
      "100%|██████████| 24/24 [05:40<00:00, 14.18s/it]\n"
     ]
    },
    {
     "name": "stdout",
     "output_type": "stream",
     "text": [
      "370557956 9\n"
     ]
    },
    {
     "name": "stderr",
     "output_type": "stream",
     "text": [
      "  0%|          | 0/24 [00:00<?, ?it/s]"
     ]
    },
    {
     "name": "stdout",
     "output_type": "stream",
     "text": [
      "Skills_2020-01.txt\n",
      "Skills_2020-01.txt done\n"
     ]
    },
    {
     "name": "stderr",
     "output_type": "stream",
     "text": [
      "  4%|▍         | 1/24 [01:08<26:10, 68.26s/it]"
     ]
    },
    {
     "name": "stdout",
     "output_type": "stream",
     "text": [
      "405064359 9\n",
      "Skills_2020-02.txt\n",
      "Skills_2020-02.txt done\n"
     ]
    },
    {
     "name": "stderr",
     "output_type": "stream",
     "text": [
      " 12%|█▎        | 3/24 [02:15<14:52, 42.49s/it]"
     ]
    },
    {
     "name": "stdout",
     "output_type": "stream",
     "text": [
      "439118291 9\n",
      "Skills_2020-03.txt\n",
      "Skills_2020-03.txt done\n"
     ]
    },
    {
     "name": "stderr",
     "output_type": "stream",
     "text": [
      " 21%|██        | 5/24 [03:20<11:53, 37.54s/it]"
     ]
    },
    {
     "name": "stdout",
     "output_type": "stream",
     "text": [
      "471838118 9\n",
      "Skills_2020-04.txt\n",
      "Skills_2020-04.txt done\n"
     ]
    },
    {
     "name": "stderr",
     "output_type": "stream",
     "text": [
      " 29%|██▉       | 7/24 [03:58<08:23, 29.64s/it]"
     ]
    },
    {
     "name": "stdout",
     "output_type": "stream",
     "text": [
      "493058525 9\n",
      "Skills_2020-05.txt\n",
      "Skills_2020-05.txt done\n"
     ]
    },
    {
     "name": "stderr",
     "output_type": "stream",
     "text": [
      " 38%|███▊      | 9/24 [04:45<06:50, 27.38s/it]"
     ]
    },
    {
     "name": "stdout",
     "output_type": "stream",
     "text": [
      "515262147 9\n",
      "Skills_2020-06.txt\n",
      "Skills_2020-06.txt done\n"
     ]
    },
    {
     "name": "stderr",
     "output_type": "stream",
     "text": [
      " 46%|████▌     | 11/24 [05:35<05:44, 26.51s/it]"
     ]
    },
    {
     "name": "stdout",
     "output_type": "stream",
     "text": [
      "542397071 9\n",
      "Skills_2020-07.txt\n",
      "Skills_2020-07.txt done\n"
     ]
    },
    {
     "name": "stderr",
     "output_type": "stream",
     "text": [
      " 54%|█████▍    | 13/24 [06:13<04:22, 23.89s/it]"
     ]
    },
    {
     "name": "stdout",
     "output_type": "stream",
     "text": [
      "568956442 9\n",
      "Skills_2020-08.txt\n",
      "Skills_2020-08.txt done\n"
     ]
    },
    {
     "name": "stderr",
     "output_type": "stream",
     "text": [
      " 62%|██████▎   | 15/24 [06:52<03:22, 22.47s/it]"
     ]
    },
    {
     "name": "stdout",
     "output_type": "stream",
     "text": [
      "596266469 9\n",
      "Skills_2020-09.txt\n",
      "Skills_2020-09.txt done\n"
     ]
    },
    {
     "name": "stderr",
     "output_type": "stream",
     "text": [
      " 71%|███████   | 17/24 [07:49<02:51, 24.47s/it]"
     ]
    },
    {
     "name": "stdout",
     "output_type": "stream",
     "text": [
      "622022341 9\n",
      "Skills_2020-10.txt\n",
      "Skills_2020-10.txt done\n"
     ]
    },
    {
     "name": "stderr",
     "output_type": "stream",
     "text": [
      " 79%|███████▉  | 19/24 [08:53<02:13, 26.75s/it]"
     ]
    },
    {
     "name": "stdout",
     "output_type": "stream",
     "text": [
      "651565167 9\n",
      "Skills_2020-11.txt\n",
      "Skills_2020-11.txt done\n"
     ]
    },
    {
     "name": "stderr",
     "output_type": "stream",
     "text": [
      " 88%|████████▊ | 21/24 [09:34<01:14, 24.91s/it]"
     ]
    },
    {
     "name": "stdout",
     "output_type": "stream",
     "text": [
      "676246881 9\n",
      "Skills_2020-12.txt\n",
      "Skills_2020-12.txt done\n"
     ]
    },
    {
     "name": "stderr",
     "output_type": "stream",
     "text": [
      "100%|██████████| 24/24 [10:19<00:00, 25.80s/it]\n"
     ]
    },
    {
     "name": "stdout",
     "output_type": "stream",
     "text": [
      "701378429 9\n"
     ]
    },
    {
     "name": "stderr",
     "output_type": "stream",
     "text": [
      "  0%|          | 0/12 [00:00<?, ?it/s]"
     ]
    },
    {
     "name": "stdout",
     "output_type": "stream",
     "text": [
      "Skills_2021-02.txt\n",
      "Skills_2021-02.txt done\n"
     ]
    },
    {
     "name": "stderr",
     "output_type": "stream",
     "text": [
      " 17%|█▋        | 2/12 [01:09<05:48, 34.89s/it]"
     ]
    },
    {
     "name": "stdout",
     "output_type": "stream",
     "text": [
      "730047466 9\n",
      "Skills_2021-03.txt\n",
      "Skills_2021-03.txt done\n"
     ]
    },
    {
     "name": "stderr",
     "output_type": "stream",
     "text": [
      " 25%|██▌       | 3/12 [02:43<08:55, 59.47s/it]"
     ]
    },
    {
     "name": "stdout",
     "output_type": "stream",
     "text": [
      "767964283 9\n",
      "Skills_2021-04.txt\n",
      "Skills_2021-04.txt done\n"
     ]
    },
    {
     "name": "stderr",
     "output_type": "stream",
     "text": [
      " 33%|███▎      | 4/12 [04:15<09:33, 71.68s/it]"
     ]
    },
    {
     "name": "stdout",
     "output_type": "stream",
     "text": [
      "805327701 9\n",
      "Skills_2021-05.txt\n",
      "Skills_2021-05.txt done\n"
     ]
    },
    {
     "name": "stderr",
     "output_type": "stream",
     "text": [
      " 42%|████▏     | 5/12 [06:01<09:43, 83.32s/it]"
     ]
    },
    {
     "name": "stdout",
     "output_type": "stream",
     "text": [
      "843748973 9\n",
      "Skills_2021-06.txt\n",
      "Skills_2021-06.txt done\n"
     ]
    },
    {
     "name": "stderr",
     "output_type": "stream",
     "text": [
      " 50%|█████     | 6/12 [07:37<08:46, 87.82s/it]"
     ]
    },
    {
     "name": "stdout",
     "output_type": "stream",
     "text": [
      "879605316 9\n",
      "Skills_2021-07.txt\n",
      "Skills_2021-07.txt done\n"
     ]
    },
    {
     "name": "stderr",
     "output_type": "stream",
     "text": [
      " 58%|█████▊    | 7/12 [09:16<07:36, 91.21s/it]"
     ]
    },
    {
     "name": "stdout",
     "output_type": "stream",
     "text": [
      "915773447 9\n",
      "Skills_2021-08.txt\n",
      "Skills_2021-08.txt done\n"
     ]
    },
    {
     "name": "stderr",
     "output_type": "stream",
     "text": [
      " 67%|██████▋   | 8/12 [10:58<06:19, 94.83s/it]"
     ]
    },
    {
     "name": "stdout",
     "output_type": "stream",
     "text": [
      "952901793 9\n",
      "Skills_2021-09.txt\n",
      "Skills_2021-09.txt done\n"
     ]
    },
    {
     "name": "stderr",
     "output_type": "stream",
     "text": [
      " 75%|███████▌  | 9/12 [12:29<04:40, 93.35s/it]"
     ]
    },
    {
     "name": "stdout",
     "output_type": "stream",
     "text": [
      "986142124 9\n",
      "Skills_2021-10.txt\n",
      "Skills_2021-10.txt done\n"
     ]
    },
    {
     "name": "stderr",
     "output_type": "stream",
     "text": [
      " 83%|████████▎ | 10/12 [14:13<03:13, 96.90s/it]"
     ]
    },
    {
     "name": "stdout",
     "output_type": "stream",
     "text": [
      "1024435615 9\n",
      "Skills_2021-11.txt\n",
      "Skills_2021-11.txt done\n"
     ]
    },
    {
     "name": "stderr",
     "output_type": "stream",
     "text": [
      " 92%|█████████▏| 11/12 [16:05<01:41, 101.52s/it]"
     ]
    },
    {
     "name": "stdout",
     "output_type": "stream",
     "text": [
      "1064770685 9\n",
      "Skills_2021-12.txt\n",
      "Skills_2021-12.txt done\n"
     ]
    },
    {
     "name": "stderr",
     "output_type": "stream",
     "text": [
      "100%|██████████| 12/12 [17:48<00:00, 89.00s/it] "
     ]
    },
    {
     "name": "stdout",
     "output_type": "stream",
     "text": [
      "1102718299 9\n"
     ]
    },
    {
     "name": "stderr",
     "output_type": "stream",
     "text": [
      "\n"
     ]
    }
   ],
   "source": [
    "for yr in ['2019', '2020', '2021']:\n",
    "    os.chdir(yr)\n",
    "    for f in tqdm(os.listdir()):\n",
    "        if f.endswith('.txt') and f!='Skills_2021-01.txt':\n",
    "            print(f)\n",
    "            d1=  spark.read.options(delimiter='\\t').csv(r\"{0}\\\\{1}\".format(os.getcwd(), f), header=True, inferSchema=True)\n",
    "            df= unionAll(df, d1)\n",
    "            print(f, 'done')\n",
    "            print(df.count(), len(df.columns))\n",
    "    os.chdir('..')"
   ]
  },
  {
   "cell_type": "code",
   "execution_count": 3,
   "metadata": {},
   "outputs": [],
   "source": [
    "# dff.columns"
   ]
  },
  {
   "cell_type": "code",
   "execution_count": 195,
   "metadata": {},
   "outputs": [],
   "source": [
    "os.chdir(r\"D:\\OneDrive - Indian School of Business\\Desktop\\jobsAnalysis\")"
   ]
  },
  {
   "cell_type": "code",
   "execution_count": 196,
   "metadata": {},
   "outputs": [
    {
     "data": {
      "text/plain": [
       "(1669891, 28)"
      ]
     },
     "execution_count": 196,
     "metadata": {},
     "output_type": "execute_result"
    }
   ],
   "source": [
    "sdf = spark.read.options(delimiter=',').csv(r\"{0}\\\\{1}\".format(os.getcwd(), 'jobs_data.csv'), header=True, inferSchema=True)\n",
    "sdf.count(), len(sdf.columns)"
   ]
  },
  {
   "cell_type": "code",
   "execution_count": 199,
   "metadata": {},
   "outputs": [
    {
     "name": "stdout",
     "output_type": "stream",
     "text": [
      "1102718299 7\n"
     ]
    }
   ],
   "source": [
    "df= df.drop(df.JobDate)\n",
    "df= df.drop(df.Salary)\n",
    "\n",
    "print(df.count(), len(df.columns))"
   ]
  },
  {
   "cell_type": "code",
   "execution_count": 204,
   "metadata": {},
   "outputs": [],
   "source": [
    "del d1"
   ]
  },
  {
   "cell_type": "code",
   "execution_count": 203,
   "metadata": {},
   "outputs": [
    {
     "name": "stdout",
     "output_type": "stream",
     "text": [
      "1669891 2\n"
     ]
    }
   ],
   "source": [
    "sdf= sdf.select(col(\"JobID\"),col(\"JobDate\"))\n",
    "print(sdf.count(), len(sdf.columns))"
   ]
  },
  {
   "cell_type": "code",
   "execution_count": 205,
   "metadata": {},
   "outputs": [
    {
     "name": "stdout",
     "output_type": "stream",
     "text": [
      "1102718299 7\n"
     ]
    }
   ],
   "source": [
    "print(df.count(), len(df.columns))"
   ]
  },
  {
   "cell_type": "code",
   "execution_count": 215,
   "metadata": {},
   "outputs": [],
   "source": [
    "d1 = df.join(sdf, df.JobID == sdf.JobID, \"inner\")"
   ]
  },
  {
   "cell_type": "code",
   "execution_count": 216,
   "metadata": {},
   "outputs": [
    {
     "name": "stdout",
     "output_type": "stream",
     "text": [
      "18515090 9\n"
     ]
    }
   ],
   "source": [
    "print(d1.count(), len(d1.columns))"
   ]
  },
  {
   "cell_type": "code",
   "execution_count": 4,
   "metadata": {},
   "outputs": [],
   "source": [
    "d= d1.toPandas()\n",
    "# print(d.info())"
   ]
  },
  {
   "cell_type": "code",
   "execution_count": 224,
   "metadata": {},
   "outputs": [],
   "source": [
    "d.columns=['JobID', 'Skill', 'SkillCluster', 'SkillClusterFamily',\n",
    "       'IsSpecialized', 'IsBaseline', 'IsSoftware', 'drop1', 'drop2']"
   ]
  },
  {
   "cell_type": "code",
   "execution_count": 5,
   "metadata": {},
   "outputs": [],
   "source": [
    "d= d[['JobID', 'Skill', 'SkillCluster', 'SkillClusterFamily',\n",
    "       'IsSpecialized', 'IsBaseline', 'IsSoftware']]"
   ]
  },
  {
   "cell_type": "code",
   "execution_count": 228,
   "metadata": {},
   "outputs": [
    {
     "data": {
      "text/plain": [
       "Index(['JobID', 'JobDate', 'CleanTitle', 'CanonTitle', 'OccFam', 'OccFamName',\n",
       "       'SOC', 'SOCName', 'ONET', 'ONETName', 'Employer', 'Sector',\n",
       "       'SectorName', 'NAICS3', 'City', 'State', 'County', 'Lat', 'Lon', 'Edu',\n",
       "       'Degree', 'Exp', 'MinSalary', 'MaxSalary', 'MinHrlySalary',\n",
       "       'MaxHrlySalary', 'PayFrequency'],\n",
       "      dtype='object')"
      ]
     },
     "execution_count": 228,
     "metadata": {},
     "output_type": "execute_result"
    }
   ],
   "source": [
    "dff.columns"
   ]
  },
  {
   "cell_type": "code",
   "execution_count": 229,
   "metadata": {},
   "outputs": [
    {
     "data": {
      "text/plain": [
       "Index(['JobID', 'Skill', 'SkillCluster', 'SkillClusterFamily', 'IsSpecialized',\n",
       "       'IsBaseline', 'IsSoftware'],\n",
       "      dtype='object')"
      ]
     },
     "execution_count": 229,
     "metadata": {},
     "output_type": "execute_result"
    }
   ],
   "source": [
    "d.columns"
   ]
  },
  {
   "cell_type": "code",
   "execution_count": 230,
   "metadata": {},
   "outputs": [],
   "source": [
    "dff.to_csv(r\"jobs_data.csv\", index=False)\n",
    "d.to_csv(r\"skills_data.csv\", index=False)"
   ]
  },
  {
   "cell_type": "code",
   "execution_count": 231,
   "metadata": {},
   "outputs": [
    {
     "name": "stdout",
     "output_type": "stream",
     "text": [
      "<class 'pandas.core.frame.DataFrame'>\n",
      "RangeIndex: 1669891 entries, 0 to 1669890\n",
      "Data columns (total 27 columns):\n",
      " #   Column         Non-Null Count    Dtype         \n",
      "---  ------         --------------    -----         \n",
      " 0   JobID          1669891 non-null  int64         \n",
      " 1   JobDate        1669891 non-null  datetime64[ns]\n",
      " 2   CleanTitle     1669891 non-null  object        \n",
      " 3   CanonTitle     1669891 non-null  object        \n",
      " 4   OccFam         1669891 non-null  object        \n",
      " 5   OccFamName     1669891 non-null  object        \n",
      " 6   SOC            1669891 non-null  object        \n",
      " 7   SOCName        1669891 non-null  object        \n",
      " 8   ONET           1669891 non-null  object        \n",
      " 9   ONETName       1669891 non-null  object        \n",
      " 10  Employer       1669891 non-null  object        \n",
      " 11  Sector         1669891 non-null  object        \n",
      " 12  SectorName     1669891 non-null  object        \n",
      " 13  NAICS3         1669891 non-null  int32         \n",
      " 14  City           1669891 non-null  object        \n",
      " 15  State          1669891 non-null  object        \n",
      " 16  County         1669891 non-null  object        \n",
      " 17  Lat            1669891 non-null  float64       \n",
      " 18  Lon            1669891 non-null  float64       \n",
      " 19  Edu            1669891 non-null  int32         \n",
      " 20  Degree         1669891 non-null  object        \n",
      " 21  Exp            1669891 non-null  float64       \n",
      " 22  MinSalary      1669891 non-null  float64       \n",
      " 23  MaxSalary      1669891 non-null  float64       \n",
      " 24  MinHrlySalary  1669891 non-null  float64       \n",
      " 25  MaxHrlySalary  1669891 non-null  object        \n",
      " 26  PayFrequency   1669891 non-null  object        \n",
      "dtypes: datetime64[ns](1), float64(6), int32(2), int64(1), object(17)\n",
      "memory usage: 331.2+ MB\n"
     ]
    }
   ],
   "source": [
    "dff.info(verbose=True, show_counts=True)"
   ]
  },
  {
   "cell_type": "code",
   "execution_count": 232,
   "metadata": {},
   "outputs": [
    {
     "name": "stdout",
     "output_type": "stream",
     "text": [
      "<class 'pandas.core.frame.DataFrame'>\n",
      "RangeIndex: 18515090 entries, 0 to 18515089\n",
      "Data columns (total 7 columns):\n",
      " #   Column              Non-Null Count     Dtype \n",
      "---  ------              --------------     ----- \n",
      " 0   JobID               18515090 non-null  int64 \n",
      " 1   Skill               18515090 non-null  object\n",
      " 2   SkillCluster        18515090 non-null  object\n",
      " 3   SkillClusterFamily  18515090 non-null  object\n",
      " 4   IsSpecialized       18515090 non-null  int32 \n",
      " 5   IsBaseline          18515090 non-null  int32 \n",
      " 6   IsSoftware          18515090 non-null  int32 \n",
      "dtypes: int32(3), int64(1), object(3)\n",
      "memory usage: 776.9+ MB\n"
     ]
    }
   ],
   "source": [
    "d.info(verbose=True, show_counts=True)"
   ]
  },
  {
   "cell_type": "code",
   "execution_count": 233,
   "metadata": {},
   "outputs": [
    {
     "data": {
      "text/plain": [
       "'D:\\\\OneDrive - Indian School of Business\\\\Desktop\\\\jobsAnalysis'"
      ]
     },
     "execution_count": 233,
     "metadata": {},
     "output_type": "execute_result"
    }
   ],
   "source": [
    "os.getcwd()"
   ]
  }
 ],
 "metadata": {
  "kernelspec": {
   "display_name": "Python 3.10.6 ('base')",
   "language": "python",
   "name": "python3"
  },
  "language_info": {
   "codemirror_mode": {
    "name": "ipython",
    "version": 3
   },
   "file_extension": ".py",
   "mimetype": "text/x-python",
   "name": "python",
   "nbconvert_exporter": "python",
   "pygments_lexer": "ipython3",
   "version": "3.10.6"
  },
  "orig_nbformat": 4,
  "vscode": {
   "interpreter": {
    "hash": "169b05a80b39c6e3fc108e186a9aefc48bf46eb305dec0f1d7bd62f7d772e1fd"
   }
  }
 },
 "nbformat": 4,
 "nbformat_minor": 2
}
